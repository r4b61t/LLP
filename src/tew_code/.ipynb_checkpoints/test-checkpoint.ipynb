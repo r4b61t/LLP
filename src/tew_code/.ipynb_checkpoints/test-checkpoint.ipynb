{
 "cells": [
  {
   "cell_type": "code",
   "execution_count": 1,
   "metadata": {},
   "outputs": [],
   "source": [
    "import numpy as np\n",
    "from qtft_tools import *\n",
    "from scipy import sparse\n",
    "import networkx as nx\n",
    "from tqdm import tqdm\n",
    "import community\n",
    "import matplotlib.pyplot as plt"
   ]
  },
  {
   "cell_type": "code",
   "execution_count": 51,
   "metadata": {},
   "outputs": [],
   "source": [
    "# Q-Learning values. Modified data has suing action in first column.\n",
    "Qs = sparse.load_npz('data/Qs.npz').toarray() \n",
    "\n",
    "# Association matrix\n",
    "As = sparse.load_npz('data/As.npz').toarray()\n",
    "\n",
    "# Provision constraints\n",
    "Ls = sparse.load_npz('data/Ls.npz').toarray()\n",
    "\n",
    "# Number of assets\n",
    "N = len(Qs)\n",
    "\n",
    "# Number of actions\n",
    "M = len(Qs[0,:])\n",
    "\n",
    "# Number of candidates\n",
    "n_candidates = 10\n",
    "\n",
    "# Number of driving cycles\n",
    "p = 2\n",
    "\n",
    "# Max community size\n",
    "max_community_size = 7\n",
    "\n",
    "# Weight\n",
    "e = 0.2"
   ]
  },
  {
   "cell_type": "code",
   "execution_count": null,
   "metadata": {},
   "outputs": [
    {
     "name": "stderr",
     "output_type": "stream",
     "text": [
      " 17%|█▋        | 35/208 [00:26<01:28,  1.95it/s]"
     ]
    }
   ],
   "source": [
    "# Peform DC QAOA\n",
    "m = DC_QAOA(Qs, As, e, p, n_candidates, max_community_size)\n",
    "m.optimized()"
   ]
  },
  {
   "cell_type": "code",
   "execution_count": null,
   "metadata": {},
   "outputs": [],
   "source": [
    "# Plot group sizes\n",
    "fig = plt.figure(figsize=(8, 3), dpi=200)\n",
    "n_groups = np.array([group.size for group in m.groups])\n",
    "x, y = np.unique(n_groups, return_counts=True)\n",
    "plt.plot(x,y,'o',markersize=13)\n",
    "plt.xlabel(\"Number of nodes\", fontsize=14)\n",
    "plt.ylabel(\"Number of Groups\", fontsize=14)\n",
    "_ = plt.xticks(fontsize=14)\n",
    "_ = plt.yticks(fontsize=14)\n",
    "\n",
    "# Plot node degree\n",
    "n_degrees = []\n",
    "for group in m.groups:\n",
    "    n_degrees += np.sum(As[group.nodes][:, group.nodes]>0,axis=1).tolist()    \n",
    "n_degrees = np.array(n_degrees)\n",
    "x, y = np.unique(n_degrees, return_counts=True)\n",
    "\n",
    "fig = plt.figure(figsize=(8, 3), dpi=200)\n",
    "plt.plot(x,y,'o', markersize=13)\n",
    "plt.xlabel(\"Edge Degrees\", fontsize=14)\n",
    "plt.ylabel(\"Number of Nodes\", fontsize=14)\n",
    "_ = plt.xticks(fontsize=14)\n",
    "_ = plt.yticks(fontsize=14)\n",
    "\n",
    "# Visualize a subgraph\n",
    "fig = plt.figure(figsize=(8, 3), dpi=200)\n",
    "idx = m.groups[0].nodes\n",
    "g = nx.convert_matrix.from_numpy_array(As[idx][:,idx])\n",
    "nx.draw(g)"
   ]
  },
  {
   "cell_type": "code",
   "execution_count": null,
   "metadata": {},
   "outputs": [],
   "source": [
    "# Plot QAOA accuracy for each group\n",
    "exact_energies = np.array([group.c_exact for group in m.groups])\n",
    "ind = np.argsort(exact_energies)[::-1]\n",
    "\n",
    "fig = plt.figure(figsize=(8, 3), dpi=200)\n",
    "for i in range(len(m.groups)):   \n",
    "    plt.scatter([i]*len(m.groups[ind[i]].cs), m.groups[ind[i]].cs, c='b', alpha=0.2, s=10)\n",
    "    \n",
    "plt.plot(np.arange(len(m.groups)), exact_energies[ind], 'r--', linewidth=3)\n",
    "    \n",
    "plt.ylim([-3.5, 0.2])\n",
    "plt.xlabel(\"Group Index, sorted by energy\", fontsize=14)\n",
    "plt.ylabel(\"Energy\", fontsize=14)\n",
    "plt.title(\"Candidate Distribution\", fontsize=14)\n",
    "_ = plt.xticks(fontsize=14)\n",
    "_ = plt.yticks(fontsize=14)"
   ]
  },
  {
   "cell_type": "code",
   "execution_count": null,
   "metadata": {
    "scrolled": false
   },
   "outputs": [],
   "source": [
    "g_q = GreedySearch(m.x_best, Qs, As, Ls, e=e)\n",
    "g_q.optimized(300)\n",
    "\n",
    "x = ''.join([str(np.random.randint(M)) for _ in range(N)])\n",
    "g_c = GreedySearch(x, Qs, As, Ls, e=e)\n",
    "g_c.optimized(300)"
   ]
  },
  {
   "cell_type": "code",
   "execution_count": null,
   "metadata": {},
   "outputs": [],
   "source": [
    "fig = plt.figure(figsize=(10,5))\n",
    "plt.plot(g_c.ys,'--',c='dimgrey',linewidth=3,label='Greedy')\n",
    "plt.plot(g_q.ys,'-',c='forestgreen',linewidth=3,label='Greedy + DC QAOA')\n",
    "plt.legend(fontsize=30)\n",
    "plt.xticks(fontsize=30)\n",
    "plt.yticks(fontsize=30)\n",
    "plt.savefig(\"Y.png\",dpi=400)"
   ]
  },
  {
   "cell_type": "code",
   "execution_count": 50,
   "metadata": {},
   "outputs": [
    {
     "data": {
      "image/png": "[encoded data removed]",
      "text/plain": [
       "<Figure size 720x360 with 1 Axes>"
      ]
     },
     "metadata": {
      "needs_background": "light"
     },
     "output_type": "display_data"
    }
   ],
   "source": [
    "fig = plt.figure(figsize=(10,5))\n",
    "plt.plot(g_c.ls,'--',c='dimgrey',linewidth=3)\n",
    "plt.plot(g_q.ls,'-',c='forestgreen',linewidth=3)\n",
    "plt.axhline(y = np.sum(np.min(Ls,axis=1)), color = 'r', linestyle = '-.')\n",
    "plt.xticks(fontsize=30)\n",
    "plt.yticks(fontsize=30)\n",
    "plt.savefig(\"L.png\",dpi=400)"
   ]
  },
  {
   "cell_type": "code",
   "execution_count": 48,
   "metadata": {},
   "outputs": [
    {
     "data": {
      "text/plain": [
       "10885374.59452838"
      ]
     },
     "execution_count": 48,
     "metadata": {},
     "output_type": "execute_result"
    }
   ],
   "source": [
    "np.sum(np.max(Ls,axis=1))"
   ]
  },
  {
   "cell_type": "code",
   "execution_count": null,
   "metadata": {},
   "outputs": [],
   "source": []
  }
 ],
 "metadata": {
  "kernelspec": {
   "display_name": "Python 3",
   "language": "python",
   "name": "python3"
  },
  "language_info": {
   "codemirror_mode": {
    "name": "ipython",
    "version": 3
   },
   "file_extension": ".py",
   "mimetype": "text/x-python",
   "name": "python",
   "nbconvert_exporter": "python",
   "pygments_lexer": "ipython3",
   "version": "3.7.6"
  }
 },
 "nbformat": 4,
 "nbformat_minor": 4
}
