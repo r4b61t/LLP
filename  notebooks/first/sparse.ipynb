{
 "cells": [
  {
   "cell_type": "code",
   "execution_count": 49,
   "id": "initial_id",
   "metadata": {
    "collapsed": true,
    "ExecuteTime": {
     "end_time": "2024-01-22T07:07:49.608960Z",
     "start_time": "2024-01-22T07:07:49.605508Z"
    }
   },
   "outputs": [],
   "source": [
    "from scipy.sparse import csc_matrix"
   ]
  },
  {
   "cell_type": "code",
   "execution_count": 50,
   "outputs": [],
   "source": [
    "def hb_taylor_terms(hb: csc_matrix , terms: int = 12) -> list:\n",
    "    return [hb ** i for i in range(terms)]\n"
   ],
   "metadata": {
    "collapsed": false,
    "ExecuteTime": {
     "end_time": "2024-01-22T07:07:49.836583Z",
     "start_time": "2024-01-22T07:07:49.833227Z"
    }
   },
   "id": "f80bac1582c9f3ce"
  },
  {
   "cell_type": "code",
   "execution_count": 65,
   "outputs": [],
   "source": [
    "def hb_taylor_terms_new(hb: csc_matrix , terms: int = 12) -> list:\n",
    "    res = [hb]\n",
    "    for i in range(1, terms):\n",
    "        term = hb * res[i-1]\n",
    "        res.append(term)\n",
    "    return res\n"
   ],
   "metadata": {
    "collapsed": false,
    "ExecuteTime": {
     "end_time": "2024-01-22T07:20:04.520180Z",
     "start_time": "2024-01-22T07:20:04.517178Z"
    }
   },
   "id": "ed9d767d1accb258"
  },
  {
   "cell_type": "code",
   "execution_count": 72,
   "outputs": [],
   "source": [
    "import numpy as np\n",
    "n = 2**12\n",
    "data = np.random.rand(n)\n",
    "row = np.arange(n)\n",
    "col = row\n",
    "hb_matrix = csc_matrix((data, (row, col)), shape=(n, n))\n"
   ],
   "metadata": {
    "collapsed": false,
    "ExecuteTime": {
     "end_time": "2024-01-22T07:23:04.512570Z",
     "start_time": "2024-01-22T07:23:04.509929Z"
    }
   },
   "id": "cc9fb0e357b8a931"
  },
  {
   "cell_type": "code",
   "execution_count": 73,
   "outputs": [
    {
     "data": {
      "text/plain": "0.25419783405959606"
     },
     "execution_count": 73,
     "metadata": {},
     "output_type": "execute_result"
    }
   ],
   "source": [
    "import timeit\n",
    "timeit.timeit(lambda : hb_taylor_terms(hb_matrix), number=100)"
   ],
   "metadata": {
    "collapsed": false,
    "ExecuteTime": {
     "end_time": "2024-01-22T07:23:05.067949Z",
     "start_time": "2024-01-22T07:23:04.810897Z"
    }
   },
   "id": "db2a9655d91f6149"
  },
  {
   "cell_type": "code",
   "execution_count": 74,
   "outputs": [
    {
     "data": {
      "text/plain": "0.08498187502846122"
     },
     "execution_count": 74,
     "metadata": {},
     "output_type": "execute_result"
    }
   ],
   "source": [
    "timeit.timeit(lambda : hb_taylor_terms_new(hb_matrix), number=100)\n"
   ],
   "metadata": {
    "collapsed": false,
    "ExecuteTime": {
     "end_time": "2024-01-22T07:23:05.868986Z",
     "start_time": "2024-01-22T07:23:05.766955Z"
    }
   },
   "id": "66b6b69a5a7c5435"
  },
  {
   "cell_type": "code",
   "execution_count": null,
   "outputs": [],
   "source": [],
   "metadata": {
    "collapsed": false
   },
   "id": "b8f29d78a238ac2e"
  }
 ],
 "metadata": {
  "kernelspec": {
   "display_name": "Python 3",
   "language": "python",
   "name": "python3"
  },
  "language_info": {
   "codemirror_mode": {
    "name": "ipython",
    "version": 2
   },
   "file_extension": ".py",
   "mimetype": "text/x-python",
   "name": "python",
   "nbconvert_exporter": "python",
   "pygments_lexer": "ipython2",
   "version": "2.7.6"
  }
 },
 "nbformat": 4,
 "nbformat_minor": 5
}
