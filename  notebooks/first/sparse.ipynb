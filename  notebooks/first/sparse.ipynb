{
 "cells": [
  {
   "cell_type": "code",
   "execution_count": 1,
   "id": "initial_id",
   "metadata": {
    "collapsed": true,
    "ExecuteTime": {
     "end_time": "2023-12-26T05:32:19.802004Z",
     "start_time": "2023-12-26T05:32:19.313519Z"
    }
   },
   "outputs": [
    {
     "ename": "ModuleNotFoundError",
     "evalue": "No module named 'sksparse'",
     "output_type": "error",
     "traceback": [
      "\u001B[0;31m---------------------------------------------------------------------------\u001B[0m",
      "\u001B[0;31mModuleNotFoundError\u001B[0m                       Traceback (most recent call last)",
      "Cell \u001B[0;32mIn[1], line 4\u001B[0m\n\u001B[1;32m      2\u001B[0m \u001B[38;5;28;01mimport\u001B[39;00m \u001B[38;5;21;01mnumpy\u001B[39;00m \u001B[38;5;28;01mas\u001B[39;00m \u001B[38;5;21;01mnp\u001B[39;00m\n\u001B[1;32m      3\u001B[0m \u001B[38;5;28;01mimport\u001B[39;00m \u001B[38;5;21;01mscipy\u001B[39;00m\u001B[38;5;21;01m.\u001B[39;00m\u001B[38;5;21;01msparse\u001B[39;00m\n\u001B[0;32m----> 4\u001B[0m \u001B[38;5;28;01mimport\u001B[39;00m \u001B[38;5;21;01msksparse\u001B[39;00m\u001B[38;5;21;01m.\u001B[39;00m\u001B[38;5;21;01mcholmod\u001B[39;00m\n\u001B[1;32m      6\u001B[0m \u001B[38;5;28;01mdef\u001B[39;00m \u001B[38;5;21mbenchmark_scipy_sparse\u001B[39m(matrix):\n\u001B[1;32m      7\u001B[0m     start_time \u001B[38;5;241m=\u001B[39m time\u001B[38;5;241m.\u001B[39mtime()\n",
      "\u001B[0;31mModuleNotFoundError\u001B[0m: No module named 'sksparse'"
     ]
    }
   ],
   "source": [
    "import time\n",
    "import numpy as np\n",
    "import scipy.sparse\n",
    "import sksparse.cholmod\n",
    "\n",
    "def benchmark_scipy_sparse(matrix):\n",
    "    start_time = time.time()\n",
    "    result = scipy.sparse.linalg.expm(matrix)\n",
    "    elapsed_time = time.time() - start_time\n",
    "    return result, elapsed_time\n",
    "\n",
    "def benchmark_sckit_sparse(matrix):\n",
    "    start_time = time.time()\n",
    "    factor = sksparse.cholmod.cholesky(matrix)\n",
    "    result = factor.expm1()\n",
    "    elapsed_time = time.time() - start_time\n",
    "    return result, elapsed_time\n",
    "\n",
    "# Replace this with your actual sparse matrix\n",
    "# For demonstration, I'm creating a random sparse matrix\n",
    "matrix_size = 1000\n",
    "sparse_matrix = scipy.sparse.random(matrix_size, matrix_size, density=0.1, format='csr')\n",
    "\n",
    "# Benchmark SciPy's expm\n",
    "result_scipy, time_scipy = benchmark_scipy_sparse(sparse_matrix)\n",
    "\n",
    "# Benchmark scikit-sparse\n",
    "result_sckit, time_sckit = benchmark_sckit_sparse(sparse_matrix)\n",
    "\n",
    "print(f\"SciPy elapsed time: {time_scipy:.6f} seconds\")\n",
    "print(f\"scikit-sparse elapsed time: {time_sckit:.6f} seconds\")\n",
    "\n",
    "# You can compare the results if needed\n",
    "# print(np.allclose(result_scipy, result_sckit))\n"
   ]
  },
  {
   "cell_type": "code",
   "execution_count": 2,
   "outputs": [
    {
     "ename": "ModuleNotFoundError",
     "evalue": "No module named 'sksparse'",
     "output_type": "error",
     "traceback": [
      "\u001B[0;31m---------------------------------------------------------------------------\u001B[0m",
      "\u001B[0;31mModuleNotFoundError\u001B[0m                       Traceback (most recent call last)",
      "Cell \u001B[0;32mIn[2], line 1\u001B[0m\n\u001B[0;32m----> 1\u001B[0m \u001B[38;5;28;01mimport\u001B[39;00m \u001B[38;5;21;01msksparse\u001B[39;00m\u001B[38;5;21;01m.\u001B[39;00m\u001B[38;5;21;01mcholmod\u001B[39;00m\n",
      "\u001B[0;31mModuleNotFoundError\u001B[0m: No module named 'sksparse'"
     ]
    }
   ],
   "source": [
    "import sksparse.cholmod"
   ],
   "metadata": {
    "collapsed": false,
    "ExecuteTime": {
     "end_time": "2023-12-26T05:30:45.805445Z",
     "start_time": "2023-12-26T05:30:45.792931Z"
    }
   },
   "id": "7f101ac152b0dcfd"
  },
  {
   "cell_type": "code",
   "execution_count": 11,
   "outputs": [],
   "source": [
    "from scipy.sparse import dia_matrix, identity"
   ],
   "metadata": {
    "collapsed": false,
    "ExecuteTime": {
     "end_time": "2023-12-26T05:41:30.708117Z",
     "start_time": "2023-12-26T05:41:30.698031Z"
    }
   },
   "id": "d6f477f706367d3d"
  },
  {
   "cell_type": "code",
   "execution_count": 12,
   "outputs": [
    {
     "data": {
      "text/plain": "<1000x1000 sparse matrix of type '<class 'numpy.float64'>'\n\twith 1000 stored elements (1 diagonals) in DIAgonal format>"
     },
     "execution_count": 12,
     "metadata": {},
     "output_type": "execute_result"
    }
   ],
   "source": [
    "identity(1000)"
   ],
   "metadata": {
    "collapsed": false,
    "ExecuteTime": {
     "end_time": "2023-12-26T05:41:35.347145Z",
     "start_time": "2023-12-26T05:41:35.343069Z"
    }
   },
   "id": "4e89b74d8ffa89e6"
  }
 ],
 "metadata": {
  "kernelspec": {
   "display_name": "Python 3",
   "language": "python",
   "name": "python3"
  },
  "language_info": {
   "codemirror_mode": {
    "name": "ipython",
    "version": 2
   },
   "file_extension": ".py",
   "mimetype": "text/x-python",
   "name": "python",
   "nbconvert_exporter": "python",
   "pygments_lexer": "ipython2",
   "version": "2.7.6"
  }
 },
 "nbformat": 4,
 "nbformat_minor": 5
}
