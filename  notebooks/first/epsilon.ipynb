{
 "cells": [
  {
   "cell_type": "markdown",
   "source": [
    "$\\varepsilon$ s.t. $\\varepsilon \\langle \\text{profit} \\rangle = (1- \\varepsilon)\\langle \\text{welfare} \\rangle$\n",
    "\n",
    "$$\\varepsilon_\\text{max} = \\frac{m -1}{s^2 (m-1)^2 + m + 1}$$\n",
    "\n",
    "where $s$ is strength and $m$ is number of actions."
   ],
   "metadata": {
    "collapsed": false
   },
   "id": "2c6cd083aec4e5e9"
  },
  {
   "cell_type": "code",
   "execution_count": 2,
   "outputs": [],
   "source": [
    "# 3 lonees 5 actions\n",
    "#  000 000 000 "
   ],
   "metadata": {
    "collapsed": false,
    "ExecuteTime": {
     "end_time": "2023-12-26T05:31:49.716969Z",
     "start_time": "2023-12-26T05:31:49.709606Z"
    }
   },
   "id": "4c7603f875adbe38"
  },
  {
   "cell_type": "code",
   "execution_count": null,
   "outputs": [],
   "source": [],
   "metadata": {
    "collapsed": false
   },
   "id": "dbbe41767727bf00"
  }
 ],
 "metadata": {
  "kernelspec": {
   "display_name": "Python 3",
   "language": "python",
   "name": "python3"
  },
  "language_info": {
   "codemirror_mode": {
    "name": "ipython",
    "version": 2
   },
   "file_extension": ".py",
   "mimetype": "text/x-python",
   "name": "python",
   "nbconvert_exporter": "python",
   "pygments_lexer": "ipython2",
   "version": "2.7.6"
  }
 },
 "nbformat": 4,
 "nbformat_minor": 5
}
