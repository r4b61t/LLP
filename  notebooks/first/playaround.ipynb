{
 "cells": [
  {
   "cell_type": "code",
   "execution_count": 1,
   "id": "initial_id",
   "metadata": {
    "collapsed": true,
    "ExecuteTime": {
     "end_time": "2024-01-15T10:15:34.371745Z",
     "start_time": "2024-01-15T10:15:33.853085Z"
    }
   },
   "outputs": [],
   "source": [
    "from new_basis_llp_qaoa.statevector_sim import CYPStateVector \n",
    "from new_basis_llp_qaoa.statevector_sim.cyp_statevector_sim import CYPStatevectorSim\n",
    "import numpy as np\n",
    "from matplotlib import pyplot as plt"
   ]
  },
  {
   "cell_type": "code",
   "execution_count": 2,
   "outputs": [
    {
     "data": {
      "text/plain": "((array([205., 528., 616., 204.,  38.,  16.,   4.,   2.,   0.,   2.]),\n  array([1.57856680e-04, 7.51128626e-02, 1.50067868e-01, 2.25022874e-01,\n         2.99977880e-01, 3.74932886e-01, 4.49887892e-01, 5.24842898e-01,\n         5.99797904e-01, 6.74752910e-01, 7.49707915e-01]),\n  <BarContainer object of 10 artists>),\n 0.9955138888888889)"
     },
     "execution_count": 2,
     "metadata": {},
     "output_type": "execute_result"
    },
    {
     "data": {
      "text/plain": "<Figure size 640x480 with 1 Axes>",
      "image/png": "[encoded data removed]"
     },
     "metadata": {},
     "output_type": "display_data"
    }
   ],
   "source": [
    "from scipy import sparse\n",
    "# Q-Learning values. (Discounted Payoff action is in first column).\n",
    "Qs = sparse.load_npz('data/Qs.npz').toarray()\n",
    "\n",
    "# Association matrix\n",
    "As = sparse.load_npz('data/As.npz').toarray()\n",
    "\n",
    "# Provision constraints\n",
    "Ls = sparse.load_npz('data/Ls.npz').toarray()\n",
    "\n",
    "res = []\n",
    "for j in As:\n",
    "    for i in j:\n",
    "        if np.abs(i) > 0.0000000001:\n",
    "            res.append(i)\n",
    "plt.hist(res), 1 - len(res)/600**2"
   ],
   "metadata": {
    "collapsed": false,
    "ExecuteTime": {
     "end_time": "2024-01-15T10:15:34.611659Z",
     "start_time": "2024-01-15T10:15:34.372772Z"
    }
   },
   "id": "2eab46abc6828238"
  },
  {
   "cell_type": "code",
   "execution_count": 58,
   "outputs": [],
   "source": [
    "\n",
    "from scipy import sparse\n",
    "# Q-Learning values. (Discounted Payoff action is in first column).\n",
    "Qs = sparse.load_npz('data/Qs.npz').toarray()\n",
    "\n",
    "# Association matrix\n",
    "As = sparse.load_npz('data/As.npz').toarray()\n",
    "\n",
    "# Provision constraints\n",
    "Ls = sparse.load_npz('data/Ls.npz').toarray()\n",
    "\n"
   ],
   "metadata": {
    "collapsed": false,
    "ExecuteTime": {
     "end_time": "2024-01-15T10:25:15.226210Z",
     "start_time": "2024-01-15T10:25:15.218699Z"
    }
   },
   "id": "e2f8ffa4bb0d0ae0"
  },
  {
   "cell_type": "code",
   "execution_count": 59,
   "outputs": [],
   "source": [
    "Qs_with_4_actions = Qs[:,:4]\n",
    "Ls_with_4_actions = Qs[:,:4]"
   ],
   "metadata": {
    "collapsed": false,
    "ExecuteTime": {
     "end_time": "2024-01-15T10:25:15.385328Z",
     "start_time": "2024-01-15T10:25:15.378746Z"
    }
   },
   "id": "8e2a3ca328677f2c"
  },
  {
   "cell_type": "code",
   "execution_count": 60,
   "outputs": [],
   "source": [
    "# pick 100 and check if the picked has non zero value at indices outside index subset"
   ],
   "metadata": {
    "collapsed": false,
    "ExecuteTime": {
     "end_time": "2024-01-15T10:25:16.553963Z",
     "start_time": "2024-01-15T10:25:16.548690Z"
    }
   },
   "id": "132b16bc20e5f671"
  },
  {
   "cell_type": "code",
   "execution_count": 61,
   "outputs": [
    {
     "name": "stderr",
     "output_type": "stream",
     "text": [
      "100%|██████████| 100/100 [00:02<00:00, 36.56it/s]\n"
     ]
    }
   ],
   "source": [
    "from tqdm import tqdm\n",
    "bad_indices_list = []\n",
    "size = 599\n",
    "for seed in tqdm(range(100)):\n",
    "    np.random.seed(seed)\n",
    "    index_subset = set(np.random.choice(range(600), size, replace=False))\n",
    "    bad_indices = 0\n",
    "    for i in index_subset:\n",
    "        row = As[i]\n",
    "        for j, entry in enumerate(row):\n",
    "            if entry > 0 and j not in index_subset:\n",
    "                bad_indices += 1\n",
    "                break\n",
    "    bad_indices_list.append(bad_indices)"
   ],
   "metadata": {
    "collapsed": false,
    "ExecuteTime": {
     "end_time": "2024-01-15T10:25:19.696972Z",
     "start_time": "2024-01-15T10:25:16.954575Z"
    }
   },
   "id": "ca742bb0e857d500"
  },
  {
   "cell_type": "code",
   "execution_count": 62,
   "outputs": [
    {
     "data": {
      "text/plain": "1"
     },
     "execution_count": 62,
     "metadata": {},
     "output_type": "execute_result"
    }
   ],
   "source": [
    "sorted(bad_indices_list)[0]"
   ],
   "metadata": {
    "collapsed": false,
    "ExecuteTime": {
     "end_time": "2024-01-15T10:25:19.697902Z",
     "start_time": "2024-01-15T10:25:19.695281Z"
    }
   },
   "id": "66413dc65a53e8ac"
  },
  {
   "cell_type": "code",
   "execution_count": 65,
   "outputs": [
    {
     "name": "stdout",
     "output_type": "stream",
     "text": [
      "594\n",
      "1\n",
      "1\n",
      "1\n",
      "2\n",
      "1\n"
     ]
    }
   ],
   "source": [
    "import networkx as nx\n",
    "G : nx.Graph = nx.from_numpy_array(As)\n",
    "connected_components = list(nx.connected_components(G))\n",
    "for graph in connected_components:\n",
    "    print(len(graph))\n"
   ],
   "metadata": {
    "collapsed": false,
    "ExecuteTime": {
     "end_time": "2024-01-15T10:26:35.378649Z",
     "start_time": "2024-01-15T10:26:35.372877Z"
    }
   },
   "id": "486301463b5779fd"
  },
  {
   "cell_type": "code",
   "execution_count": 72,
   "outputs": [],
   "source": [
    "s_G : nx.Graph = G.subgraph(connected_components[0])\n",
    "new_As = nx.to_numpy_array(s_G)"
   ],
   "metadata": {
    "collapsed": false,
    "ExecuteTime": {
     "end_time": "2024-01-15T10:28:52.221424Z",
     "start_time": "2024-01-15T10:28:52.211821Z"
    }
   },
   "id": "d2cf13e832d24c37"
  },
  {
   "cell_type": "code",
   "execution_count": 73,
   "outputs": [
    {
     "name": "stdout",
     "output_type": "stream",
     "text": [
      "Number of connected components: 6\n"
     ]
    }
   ],
   "source": [
    "from ibmq_utils import generate_random_dataset\n",
    "\n",
    "G = nx.from_numpy_array(As)\n",
    "connected_components = list(nx.connected_components(G))\n",
    "\n",
    "# Count the number of connected components\n",
    "num_connected_components = len(connected_components)\n",
    "\n",
    "# Print the result\n",
    "print(\"Number of connected components:\", num_connected_components)\n",
    "\n"
   ],
   "metadata": {
    "collapsed": false,
    "ExecuteTime": {
     "end_time": "2024-01-15T10:28:52.447887Z",
     "start_time": "2024-01-15T10:28:52.425443Z"
    }
   },
   "id": "2e510ae58a17b9b4"
  },
  {
   "cell_type": "code",
   "execution_count": 75,
   "outputs": [
    {
     "ename": "RecursionError",
     "evalue": "maximum recursion depth exceeded in comparison",
     "output_type": "error",
     "traceback": [
      "\u001B[0;31m---------------------------------------------------------------------------\u001B[0m",
      "\u001B[0;31mRecursionError\u001B[0m                            Traceback (most recent call last)",
      "Cell \u001B[0;32mIn[75], line 3\u001B[0m\n\u001B[1;32m      1\u001B[0m \u001B[38;5;28;01mfrom\u001B[39;00m \u001B[38;5;21;01mtew_code\u001B[39;00m\u001B[38;5;21;01m.\u001B[39;00m\u001B[38;5;21;01mqtft_tools\u001B[39;00m \u001B[38;5;28;01mimport\u001B[39;00m DC_QAOA\n\u001B[1;32m      2\u001B[0m m \u001B[38;5;241m=\u001B[39m DC_QAOA(Qs_with_4_actions[:\u001B[38;5;241m594\u001B[39m], new_As, \u001B[38;5;241m1.0\u001B[39m, \u001B[38;5;241m1\u001B[39m, \u001B[38;5;241m1\u001B[39m, \u001B[38;5;241m5\u001B[39m)\n\u001B[0;32m----> 3\u001B[0m \u001B[43mm\u001B[49m\u001B[38;5;241;43m.\u001B[39;49m\u001B[43mset_communities\u001B[49m\u001B[43m(\u001B[49m\u001B[43m)\u001B[49m\n",
      "File \u001B[0;32m~/Documents/NewBasisIMBQ/src/tew_code/qtft_tools.py:594\u001B[0m, in \u001B[0;36mDC_QAOA.set_communities\u001B[0;34m(self)\u001B[0m\n\u001B[1;32m    591\u001B[0m     group \u001B[38;5;241m=\u001B[39m Group(\u001B[38;5;28mstr\u001B[39m(i), np\u001B[38;5;241m.\u001B[39marray(\u001B[38;5;28mlist\u001B[39m(G[i])))\n\u001B[1;32m    593\u001B[0m     \u001B[38;5;66;03m# Update groups\u001B[39;00m\n\u001B[0;32m--> 594\u001B[0m     \u001B[38;5;28mself\u001B[39m\u001B[38;5;241m.\u001B[39mgroups \u001B[38;5;241m+\u001B[39m\u001B[38;5;241m=\u001B[39m \u001B[38;5;28;43mself\u001B[39;49m\u001B[38;5;241;43m.\u001B[39;49m\u001B[43m_get_louvian_communities_with_shared_nodes\u001B[49m\u001B[43m(\u001B[49m\u001B[43mgroup\u001B[49m\u001B[43m)\u001B[49m\n\u001B[1;32m    596\u001B[0m \u001B[38;5;66;03m# Sort descendingly according to the size of the group.\u001B[39;00m\n\u001B[1;32m    597\u001B[0m n_groups \u001B[38;5;241m=\u001B[39m np\u001B[38;5;241m.\u001B[39marray([group\u001B[38;5;241m.\u001B[39msize \u001B[38;5;28;01mfor\u001B[39;00m group \u001B[38;5;129;01min\u001B[39;00m \u001B[38;5;28mself\u001B[39m\u001B[38;5;241m.\u001B[39mgroups])\n",
      "File \u001B[0;32m~/Documents/NewBasisIMBQ/src/tew_code/qtft_tools.py:705\u001B[0m, in \u001B[0;36mDC_QAOA._get_louvian_communities_with_shared_nodes\u001B[0;34m(self, group)\u001B[0m\n\u001B[1;32m    702\u001B[0m \u001B[38;5;66;03m# Recursive reduction\u001B[39;00m\n\u001B[1;32m    703\u001B[0m \u001B[38;5;28;01mif\u001B[39;00m new_group\u001B[38;5;241m.\u001B[39msize \u001B[38;5;241m>\u001B[39m \u001B[38;5;28mself\u001B[39m\u001B[38;5;241m.\u001B[39mmax_community_size:\n\u001B[0;32m--> 705\u001B[0m     smaller_groups \u001B[38;5;241m=\u001B[39m \u001B[38;5;28;43mself\u001B[39;49m\u001B[38;5;241;43m.\u001B[39;49m\u001B[43m_get_louvian_communities_with_shared_nodes\u001B[49m\u001B[43m(\u001B[49m\u001B[43mnew_group\u001B[49m\u001B[43m)\u001B[49m\n\u001B[1;32m    707\u001B[0m     groups \u001B[38;5;241m+\u001B[39m\u001B[38;5;241m=\u001B[39m smaller_groups\n\u001B[1;32m    709\u001B[0m \u001B[38;5;28;01melse\u001B[39;00m:\n",
      "File \u001B[0;32m~/Documents/NewBasisIMBQ/src/tew_code/qtft_tools.py:705\u001B[0m, in \u001B[0;36mDC_QAOA._get_louvian_communities_with_shared_nodes\u001B[0;34m(self, group)\u001B[0m\n\u001B[1;32m    702\u001B[0m \u001B[38;5;66;03m# Recursive reduction\u001B[39;00m\n\u001B[1;32m    703\u001B[0m \u001B[38;5;28;01mif\u001B[39;00m new_group\u001B[38;5;241m.\u001B[39msize \u001B[38;5;241m>\u001B[39m \u001B[38;5;28mself\u001B[39m\u001B[38;5;241m.\u001B[39mmax_community_size:\n\u001B[0;32m--> 705\u001B[0m     smaller_groups \u001B[38;5;241m=\u001B[39m \u001B[38;5;28;43mself\u001B[39;49m\u001B[38;5;241;43m.\u001B[39;49m\u001B[43m_get_louvian_communities_with_shared_nodes\u001B[49m\u001B[43m(\u001B[49m\u001B[43mnew_group\u001B[49m\u001B[43m)\u001B[49m\n\u001B[1;32m    707\u001B[0m     groups \u001B[38;5;241m+\u001B[39m\u001B[38;5;241m=\u001B[39m smaller_groups\n\u001B[1;32m    709\u001B[0m \u001B[38;5;28;01melse\u001B[39;00m:\n",
      "    \u001B[0;31m[... skipping similar frames: DC_QAOA._get_louvian_communities_with_shared_nodes at line 705 (2958 times)]\u001B[0m\n",
      "File \u001B[0;32m~/Documents/NewBasisIMBQ/src/tew_code/qtft_tools.py:705\u001B[0m, in \u001B[0;36mDC_QAOA._get_louvian_communities_with_shared_nodes\u001B[0;34m(self, group)\u001B[0m\n\u001B[1;32m    702\u001B[0m \u001B[38;5;66;03m# Recursive reduction\u001B[39;00m\n\u001B[1;32m    703\u001B[0m \u001B[38;5;28;01mif\u001B[39;00m new_group\u001B[38;5;241m.\u001B[39msize \u001B[38;5;241m>\u001B[39m \u001B[38;5;28mself\u001B[39m\u001B[38;5;241m.\u001B[39mmax_community_size:\n\u001B[0;32m--> 705\u001B[0m     smaller_groups \u001B[38;5;241m=\u001B[39m \u001B[38;5;28;43mself\u001B[39;49m\u001B[38;5;241;43m.\u001B[39;49m\u001B[43m_get_louvian_communities_with_shared_nodes\u001B[49m\u001B[43m(\u001B[49m\u001B[43mnew_group\u001B[49m\u001B[43m)\u001B[49m\n\u001B[1;32m    707\u001B[0m     groups \u001B[38;5;241m+\u001B[39m\u001B[38;5;241m=\u001B[39m smaller_groups\n\u001B[1;32m    709\u001B[0m \u001B[38;5;28;01melse\u001B[39;00m:\n",
      "File \u001B[0;32m~/Documents/NewBasisIMBQ/src/tew_code/qtft_tools.py:691\u001B[0m, in \u001B[0;36mDC_QAOA._get_louvian_communities_with_shared_nodes\u001B[0;34m(self, group)\u001B[0m\n\u001B[1;32m    687\u001B[0m \u001B[38;5;66;03m# Check shared nodes\u001B[39;00m\n\u001B[1;32m    688\u001B[0m \u001B[38;5;28;01mfor\u001B[39;00m node \u001B[38;5;129;01min\u001B[39;00m g\u001B[38;5;241m.\u001B[39mnodes:\n\u001B[1;32m    689\u001B[0m \n\u001B[1;32m    690\u001B[0m     \u001B[38;5;66;03m# Insert shared nodes\u001B[39;00m\n\u001B[0;32m--> 691\u001B[0m     \u001B[38;5;28;01mif\u001B[39;00m \u001B[38;5;28mlen\u001B[39m(G\u001B[38;5;241m.\u001B[39medges(node)) \u001B[38;5;241m!=\u001B[39m \u001B[38;5;28mlen\u001B[39m(\u001B[43mg\u001B[49m\u001B[38;5;241;43m.\u001B[39;49m\u001B[43medges\u001B[49m\u001B[43m(\u001B[49m\u001B[43mnode\u001B[49m\u001B[43m)\u001B[49m):\n\u001B[1;32m    692\u001B[0m         shared_nodes_i \u001B[38;5;241m=\u001B[39m np\u001B[38;5;241m.\u001B[39marray(\n\u001B[1;32m    693\u001B[0m             [\u001B[38;5;28mint\u001B[39m(v) \u001B[38;5;28;01mfor\u001B[39;00m (u, v) \u001B[38;5;129;01min\u001B[39;00m \u001B[38;5;28mlist\u001B[39m(G\u001B[38;5;241m.\u001B[39medges(node)) \u001B[38;5;28;01mif\u001B[39;00m (u, v) \u001B[38;5;129;01mnot\u001B[39;00m \u001B[38;5;129;01min\u001B[39;00m \u001B[38;5;28mlist\u001B[39m(g\u001B[38;5;241m.\u001B[39medges(node))])\n\u001B[1;32m    694\u001B[0m         ind \u001B[38;5;241m=\u001B[39m np\u001B[38;5;241m.\u001B[39mappend(ind, shared_nodes_i)\n",
      "File \u001B[0;32m~/Library/Caches/pypoetry/virtualenvs/newbasisimbq-JkixFnlr-py3.10/lib/python3.10/site-packages/networkx/classes/reportviews.py:1091\u001B[0m, in \u001B[0;36mOutEdgeView.__call__\u001B[0;34m(self, nbunch, data, default)\u001B[0m\n\u001B[1;32m   1089\u001B[0m \u001B[38;5;28;01mif\u001B[39;00m nbunch \u001B[38;5;129;01mis\u001B[39;00m \u001B[38;5;28;01mNone\u001B[39;00m \u001B[38;5;129;01mand\u001B[39;00m data \u001B[38;5;129;01mis\u001B[39;00m \u001B[38;5;28;01mFalse\u001B[39;00m:\n\u001B[1;32m   1090\u001B[0m     \u001B[38;5;28;01mreturn\u001B[39;00m \u001B[38;5;28mself\u001B[39m\n\u001B[0;32m-> 1091\u001B[0m \u001B[38;5;28;01mreturn\u001B[39;00m \u001B[38;5;28;43mself\u001B[39;49m\u001B[38;5;241;43m.\u001B[39;49m\u001B[43mdataview\u001B[49m\u001B[43m(\u001B[49m\u001B[38;5;28;43mself\u001B[39;49m\u001B[43m,\u001B[49m\u001B[43m \u001B[49m\u001B[43mnbunch\u001B[49m\u001B[43m,\u001B[49m\u001B[43m \u001B[49m\u001B[43mdata\u001B[49m\u001B[43m,\u001B[49m\u001B[43m \u001B[49m\u001B[43mdefault\u001B[49m\u001B[38;5;241;43m=\u001B[39;49m\u001B[43mdefault\u001B[49m\u001B[43m)\u001B[49m\n",
      "File \u001B[0;32m~/Library/Caches/pypoetry/virtualenvs/newbasisimbq-JkixFnlr-py3.10/lib/python3.10/site-packages/networkx/classes/reportviews.py:767\u001B[0m, in \u001B[0;36mOutEdgeDataView.__init__\u001B[0;34m(self, viewer, nbunch, data, default)\u001B[0m\n\u001B[1;32m    764\u001B[0m     \u001B[38;5;28mself\u001B[39m\u001B[38;5;241m.\u001B[39m_nodes_nbrs \u001B[38;5;241m=\u001B[39m adjdict\u001B[38;5;241m.\u001B[39mitems\n\u001B[1;32m    765\u001B[0m \u001B[38;5;28;01melse\u001B[39;00m:\n\u001B[1;32m    766\u001B[0m     \u001B[38;5;66;03m# dict retains order of nodes but acts like a set\u001B[39;00m\n\u001B[0;32m--> 767\u001B[0m     nbunch \u001B[38;5;241m=\u001B[39m \u001B[38;5;28mdict\u001B[39m\u001B[38;5;241m.\u001B[39mfromkeys(\u001B[43mviewer\u001B[49m\u001B[38;5;241;43m.\u001B[39;49m\u001B[43m_graph\u001B[49m\u001B[38;5;241;43m.\u001B[39;49m\u001B[43mnbunch_iter\u001B[49m\u001B[43m(\u001B[49m\u001B[43mnbunch\u001B[49m\u001B[43m)\u001B[49m)\n\u001B[1;32m    768\u001B[0m     \u001B[38;5;28mself\u001B[39m\u001B[38;5;241m.\u001B[39m_nodes_nbrs \u001B[38;5;241m=\u001B[39m \u001B[38;5;28;01mlambda\u001B[39;00m: [(n, adjdict[n]) \u001B[38;5;28;01mfor\u001B[39;00m n \u001B[38;5;129;01min\u001B[39;00m nbunch]\n\u001B[1;32m    769\u001B[0m \u001B[38;5;28mself\u001B[39m\u001B[38;5;241m.\u001B[39m_nbunch \u001B[38;5;241m=\u001B[39m nbunch\n",
      "File \u001B[0;32m~/Library/Caches/pypoetry/virtualenvs/newbasisimbq-JkixFnlr-py3.10/lib/python3.10/site-packages/networkx/classes/graph.py:2006\u001B[0m, in \u001B[0;36mGraph.nbunch_iter\u001B[0;34m(self, nbunch)\u001B[0m\n\u001B[1;32m   2004\u001B[0m \u001B[38;5;28;01mif\u001B[39;00m nbunch \u001B[38;5;129;01mis\u001B[39;00m \u001B[38;5;28;01mNone\u001B[39;00m:  \u001B[38;5;66;03m# include all nodes via iterator\u001B[39;00m\n\u001B[1;32m   2005\u001B[0m     bunch \u001B[38;5;241m=\u001B[39m \u001B[38;5;28miter\u001B[39m(\u001B[38;5;28mself\u001B[39m\u001B[38;5;241m.\u001B[39m_adj)\n\u001B[0;32m-> 2006\u001B[0m \u001B[38;5;28;01melif\u001B[39;00m \u001B[43mnbunch\u001B[49m\u001B[43m \u001B[49m\u001B[38;5;129;43;01min\u001B[39;49;00m\u001B[43m \u001B[49m\u001B[38;5;28;43mself\u001B[39;49m:  \u001B[38;5;66;03m# if nbunch is a single node\u001B[39;00m\n\u001B[1;32m   2007\u001B[0m     bunch \u001B[38;5;241m=\u001B[39m \u001B[38;5;28miter\u001B[39m([nbunch])\n\u001B[1;32m   2008\u001B[0m \u001B[38;5;28;01melse\u001B[39;00m:  \u001B[38;5;66;03m# if nbunch is a sequence of nodes\u001B[39;00m\n",
      "File \u001B[0;32m~/Library/Caches/pypoetry/virtualenvs/newbasisimbq-JkixFnlr-py3.10/lib/python3.10/site-packages/networkx/classes/graph.py:463\u001B[0m, in \u001B[0;36mGraph.__contains__\u001B[0;34m(self, n)\u001B[0m\n\u001B[1;32m    454\u001B[0m \u001B[38;5;250m\u001B[39m\u001B[38;5;124;03m\"\"\"Returns True if n is a node, False otherwise. Use: 'n in G'.\u001B[39;00m\n\u001B[1;32m    455\u001B[0m \n\u001B[1;32m    456\u001B[0m \u001B[38;5;124;03mExamples\u001B[39;00m\n\u001B[0;32m   (...)\u001B[0m\n\u001B[1;32m    460\u001B[0m \u001B[38;5;124;03mTrue\u001B[39;00m\n\u001B[1;32m    461\u001B[0m \u001B[38;5;124;03m\"\"\"\u001B[39;00m\n\u001B[1;32m    462\u001B[0m \u001B[38;5;28;01mtry\u001B[39;00m:\n\u001B[0;32m--> 463\u001B[0m     \u001B[38;5;28;01mreturn\u001B[39;00m \u001B[43mn\u001B[49m\u001B[43m \u001B[49m\u001B[38;5;129;43;01min\u001B[39;49;00m\u001B[43m \u001B[49m\u001B[38;5;28;43mself\u001B[39;49m\u001B[38;5;241;43m.\u001B[39;49m\u001B[43m_node\u001B[49m\n\u001B[1;32m    464\u001B[0m \u001B[38;5;28;01mexcept\u001B[39;00m \u001B[38;5;167;01mTypeError\u001B[39;00m:\n\u001B[1;32m    465\u001B[0m     \u001B[38;5;28;01mreturn\u001B[39;00m \u001B[38;5;28;01mFalse\u001B[39;00m\n",
      "File \u001B[0;32m/opt/homebrew/Cellar/python@3.10/3.10.13_1/Frameworks/Python.framework/Versions/3.10/lib/python3.10/_collections_abc.py:830\u001B[0m, in \u001B[0;36mMapping.__contains__\u001B[0;34m(self, key)\u001B[0m\n\u001B[1;32m    828\u001B[0m \u001B[38;5;28;01mdef\u001B[39;00m \u001B[38;5;21m__contains__\u001B[39m(\u001B[38;5;28mself\u001B[39m, key):\n\u001B[1;32m    829\u001B[0m     \u001B[38;5;28;01mtry\u001B[39;00m:\n\u001B[0;32m--> 830\u001B[0m         \u001B[38;5;28;43mself\u001B[39;49m\u001B[43m[\u001B[49m\u001B[43mkey\u001B[49m\u001B[43m]\u001B[49m\n\u001B[1;32m    831\u001B[0m     \u001B[38;5;28;01mexcept\u001B[39;00m \u001B[38;5;167;01mKeyError\u001B[39;00m:\n\u001B[1;32m    832\u001B[0m         \u001B[38;5;28;01mreturn\u001B[39;00m \u001B[38;5;28;01mFalse\u001B[39;00m\n",
      "File \u001B[0;32m~/Library/Caches/pypoetry/virtualenvs/newbasisimbq-JkixFnlr-py3.10/lib/python3.10/site-packages/networkx/classes/coreviews.py:284\u001B[0m, in \u001B[0;36mFilterAtlas.__getitem__\u001B[0;34m(self, key)\u001B[0m\n\u001B[1;32m    283\u001B[0m \u001B[38;5;28;01mdef\u001B[39;00m \u001B[38;5;21m__getitem__\u001B[39m(\u001B[38;5;28mself\u001B[39m, key):\n\u001B[0;32m--> 284\u001B[0m     \u001B[38;5;28;01mif\u001B[39;00m key \u001B[38;5;129;01min\u001B[39;00m \u001B[38;5;28mself\u001B[39m\u001B[38;5;241m.\u001B[39m_atlas \u001B[38;5;129;01mand\u001B[39;00m \u001B[38;5;28;43mself\u001B[39;49m\u001B[38;5;241;43m.\u001B[39;49m\u001B[43mNODE_OK\u001B[49m\u001B[43m(\u001B[49m\u001B[43mkey\u001B[49m\u001B[43m)\u001B[49m:\n\u001B[1;32m    285\u001B[0m         \u001B[38;5;28;01mreturn\u001B[39;00m \u001B[38;5;28mself\u001B[39m\u001B[38;5;241m.\u001B[39m_atlas[key]\n\u001B[1;32m    286\u001B[0m     \u001B[38;5;28;01mraise\u001B[39;00m \u001B[38;5;167;01mKeyError\u001B[39;00m(\u001B[38;5;124mf\u001B[39m\u001B[38;5;124m\"\u001B[39m\u001B[38;5;124mKey \u001B[39m\u001B[38;5;132;01m{\u001B[39;00mkey\u001B[38;5;132;01m}\u001B[39;00m\u001B[38;5;124m not found\u001B[39m\u001B[38;5;124m\"\u001B[39m)\n",
      "File \u001B[0;32m~/Library/Caches/pypoetry/virtualenvs/newbasisimbq-JkixFnlr-py3.10/lib/python3.10/site-packages/networkx/classes/filters.py:55\u001B[0m, in \u001B[0;36mshow_nodes.__call__\u001B[0;34m(self, node)\u001B[0m\n\u001B[1;32m     54\u001B[0m \u001B[38;5;28;01mdef\u001B[39;00m \u001B[38;5;21m__call__\u001B[39m(\u001B[38;5;28mself\u001B[39m, node):\n\u001B[0;32m---> 55\u001B[0m     \u001B[38;5;28;01mreturn\u001B[39;00m \u001B[43mnode\u001B[49m\u001B[43m \u001B[49m\u001B[38;5;129;43;01min\u001B[39;49;00m\u001B[43m \u001B[49m\u001B[38;5;28;43mself\u001B[39;49m\u001B[38;5;241;43m.\u001B[39;49m\u001B[43mnodes\u001B[49m\n",
      "\u001B[0;31mRecursionError\u001B[0m: maximum recursion depth exceeded in comparison"
     ]
    }
   ],
   "source": [
    "\n",
    "from tew_code.qtft_tools import DC_QAOA\n",
    "m = DC_QAOA(Qs_with_4_actions[:594], new_As, 1.0, 1, 1, 5)\n",
    "m.set_communities()\n",
    "\n",
    "\n"
   ],
   "metadata": {
    "collapsed": false,
    "ExecuteTime": {
     "end_time": "2024-01-15T10:29:21.738902Z",
     "start_time": "2024-01-15T10:29:20.871917Z"
    }
   },
   "id": "d8899607f2bd193f"
  },
  {
   "cell_type": "code",
   "execution_count": 81,
   "outputs": [
    {
     "data": {
      "text/plain": "1048576"
     },
     "execution_count": 81,
     "metadata": {},
     "output_type": "execute_result"
    }
   ],
   "source": [
    "(2**10) **2"
   ],
   "metadata": {
    "collapsed": false,
    "ExecuteTime": {
     "end_time": "2024-01-15T10:30:59.594441Z",
     "start_time": "2024-01-15T10:30:59.592142Z"
    }
   },
   "id": "f9b32f42b44bc94b"
  },
  {
   "cell_type": "code",
   "execution_count": null,
   "outputs": [],
   "source": [],
   "metadata": {
    "collapsed": false
   },
   "id": "98b451463e289be1"
  }
 ],
 "metadata": {
  "kernelspec": {
   "display_name": "Python 3",
   "language": "python",
   "name": "python3"
  },
  "language_info": {
   "codemirror_mode": {
    "name": "ipython",
    "version": 2
   },
   "file_extension": ".py",
   "mimetype": "text/x-python",
   "name": "python",
   "nbconvert_exporter": "python",
   "pygments_lexer": "ipython2",
   "version": "2.7.6"
  }
 },
 "nbformat": 4,
 "nbformat_minor": 5
}
