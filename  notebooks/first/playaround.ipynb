{
 "cells": [
  {
   "cell_type": "code",
   "execution_count": 1,
   "id": "initial_id",
   "metadata": {
    "collapsed": true,
    "ExecuteTime": {
     "end_time": "2023-12-05T05:48:30.834405Z",
     "start_time": "2023-12-05T05:48:30.217577Z"
    }
   },
   "outputs": [],
   "source": [
    "from new_basis_llp_qaoa.statevector_sim import CYPStateVector \n",
    "from new_basis_llp_qaoa.statevector_sim.cyp_statevector_sim import CYPStatevectorSim\n",
    "import numpy as np"
   ]
  },
  {
   "cell_type": "code",
   "execution_count": 2,
   "outputs": [],
   "source": [
    "\n",
    "def generate_random_dataset(M, N, strength=0.2):\n",
    "    As = np.zeros((N,N))\n",
    "    for i in range(N):\n",
    "        for j in range(i):\n",
    "            x = np.random.random()\n",
    "            while x > strength:\n",
    "                x = np.random.random()\n",
    "            As[i][j] = x\n",
    "            As[j][i] = x\n",
    "\n",
    "    Qs = np.zeros((N,M))\n",
    "    expected_returns = np.linspace(1/M, 1, M)[:: -1]*(1/M)\n",
    "    Vs = As.sum(axis=1)\n",
    "    for i in range(N):\n",
    "        np.random.shuffle(expected_returns)\n",
    "        Qs[i, :] = Vs[i] * expected_returns\n",
    "    return As, Qs\n"
   ],
   "metadata": {
    "collapsed": false,
    "ExecuteTime": {
     "end_time": "2023-12-05T05:48:30.840206Z",
     "start_time": "2023-12-05T05:48:30.837042Z"
    }
   },
   "id": "2eab46abc6828238"
  },
  {
   "cell_type": "code",
   "execution_count": 3,
   "outputs": [],
   "source": [
    "import numpy as np\n",
    "ASList = np.load(\"../../resource/sample_matrices/AS-Copy1.npy\")\n",
    "QSList = np.load(\"../../resource/sample_matrices/QS-Copy1.npy\")\n",
    "AS = ASList[0]\n",
    "QS = QSList[0]\n",
    "\n",
    "N, M = QS.shape\n"
   ],
   "metadata": {
    "collapsed": false,
    "ExecuteTime": {
     "end_time": "2023-12-05T16:48:53.297799Z",
     "start_time": "2023-12-05T16:48:53.205971Z"
    }
   },
   "id": "e2f8ffa4bb0d0ae0"
  },
  {
   "cell_type": "code",
   "execution_count": 3,
   "outputs": [],
   "source": [],
   "metadata": {
    "collapsed": false,
    "ExecuteTime": {
     "end_time": "2023-12-05T16:48:53.978172Z",
     "start_time": "2023-12-05T16:48:53.974268Z"
    }
   },
   "id": "fde4c2a99810e75a"
  },
  {
   "cell_type": "code",
   "execution_count": 4,
   "outputs": [],
   "source": [
    "N_OP = np.array([[0,0], [0,1]])\n",
    "PAULI_X = np.array([[0,1], [1,0]])\n",
    "XNX_OP = PAULI_X @ N_OP @ PAULI_X\n",
    "PAULI_I = np.identity(2)"
   ],
   "metadata": {
    "collapsed": false,
    "ExecuteTime": {
     "end_time": "2023-12-05T16:48:54.242101Z",
     "start_time": "2023-12-05T16:48:54.236274Z"
    }
   },
   "id": "89e89072ccfa3b64"
  },
  {
   "cell_type": "code",
   "execution_count": 5,
   "outputs": [
    {
     "data": {
      "text/plain": "(array([[1, 0, 0, 0],\n        [0, 0, 0, 0],\n        [0, 0, 0, 0],\n        [0, 0, 0, 0]]),\n 2)"
     },
     "execution_count": 5,
     "metadata": {},
     "output_type": "execute_result"
    }
   ],
   "source": [
    "import numpy as np\n",
    "\n",
    "def binary_1(j):\n",
    "    bit_string = bin(j)[2:][::-1]\n",
    "    indexed_bits = enumerate(bit_string)\n",
    "    return set(index for index, bit in indexed_bits if bit == '1')\n",
    "\n",
    "def binary_0(j):\n",
    "    bit_string = bin(j)[2:][::-1]\n",
    "    indexed_bits = enumerate(bit_string)\n",
    "    return set(index for index, bit in indexed_bits if bit == '0')\n",
    "\n",
    "def qubits_number_for_number_of_actions(action):\n",
    "    return int(np.ceil(np.log2(action)))\n",
    "\n",
    "\n",
    "def get_qubits_number(loanee, action):\n",
    "    return qubits_number_for_number_of_actions(action) * loanee\n",
    "\n",
    "def nu(action_num, max_number_of_qubits):\n",
    "    res = N_OP if 0 in binary_1(action_num) else XNX_OP\n",
    "\n",
    "    for i in range(1, max_number_of_qubits):\n",
    "        if i in binary_1(action_num):\n",
    "            res = np.kron(N_OP, res)\n",
    "        else:\n",
    "            res = np.kron(XNX_OP, res)\n",
    "    return res\n",
    "max_n = qubits_number_for_number_of_actions(3)\n",
    "nu8 = nu(0, max_n)\n",
    "nu8, max_n"
   ],
   "metadata": {
    "collapsed": false,
    "ExecuteTime": {
     "end_time": "2023-12-05T05:48:35.624951Z",
     "start_time": "2023-12-05T05:48:35.620389Z"
    }
   },
   "id": "6e9f50ae015f91a3"
  },
  {
   "cell_type": "code",
   "execution_count": 6,
   "outputs": [],
   "source": [
    "def nu_ij(i, j, max_n, loanees):\n",
    "    before = i*max_n\n",
    "    after = (loanees - i - 1) * max_n\n",
    "    before = np.identity(2**before)\n",
    "    after = np.identity(2**after)\n",
    "    res = np.kron(nu(j, max_n), before)\n",
    "    res = np.kron(after, res)\n",
    "    return res\n",
    "\n"
   ],
   "metadata": {
    "collapsed": false,
    "ExecuteTime": {
     "end_time": "2023-12-05T05:48:37.742656Z",
     "start_time": "2023-12-05T05:48:37.738169Z"
    }
   },
   "id": "b114520d28c57894"
  },
  {
   "cell_type": "code",
   "execution_count": 67,
   "outputs": [
    {
     "data": {
      "text/plain": "(array([[0.        , 0.15601864],\n        [0.15601864, 0.        ]]),\n (2, 3))"
     },
     "execution_count": 67,
     "metadata": {},
     "output_type": "execute_result"
    }
   ],
   "source": [
    "np.random.seed(42)\n",
    "As, Qs = generate_random_dataset(3,2)\n",
    "As, Qs.shape"
   ],
   "metadata": {
    "collapsed": false,
    "ExecuteTime": {
     "end_time": "2023-12-05T16:21:10.202909Z",
     "start_time": "2023-12-05T16:21:10.192474Z"
    }
   },
   "id": "83a7caea8dd3f1ed"
  },
  {
   "cell_type": "code",
   "execution_count": 8,
   "outputs": [],
   "source": [
    "#def profit_term()\n",
    "max_n = qubits_number_for_number_of_actions(3)\n",
    "n = get_qubits_number(loanee=2, action=3)\n",
    "profit_term = np.zeros((2**n,2**n))\n",
    "for i in range(2):\n",
    "    for j in range(3):\n",
    "        h_ij = Qs[i, j]\n",
    "        profit_term += h_ij * nu_ij(i,j, max_n, loanees=2)\n"
   ],
   "metadata": {
    "collapsed": false,
    "ExecuteTime": {
     "end_time": "2023-12-05T05:48:43.755419Z",
     "start_time": "2023-12-05T05:48:43.750862Z"
    }
   },
   "id": "ae031cf7e74cc55a"
  },
  {
   "cell_type": "code",
   "execution_count": 41,
   "outputs": [],
   "source": [
    "def find_closest(pin, targets):\n",
    "    score = 1000\n",
    "    res = None\n",
    "    for i, target in enumerate(targets):\n",
    "        new_score = np.abs(pin - target)\n",
    "        if new_score < score:\n",
    "            score = new_score\n",
    "            res = target, i\n",
    "    return res"
   ],
   "metadata": {
    "collapsed": false,
    "ExecuteTime": {
     "end_time": "2023-12-05T05:59:22.653564Z",
     "start_time": "2023-12-05T05:59:22.645040Z"
    }
   },
   "id": "2ea11a59e32e7c02"
  },
  {
   "cell_type": "code",
   "execution_count": 10,
   "outputs": [],
   "source": [
    "welfare_term = np.zeros((2**n,2**n))\n",
    "for i in range(2):\n",
    "    for i_prime in range(i+1, 2):\n",
    "        first_factor = np.identity(2**n) - nu_ij(i,0, max_n, loanees=2)\n",
    "        second_factor = np.identity(2**n) - nu_ij(i_prime,0, max_n, loanees=2)\n",
    "        welfare_term += As[i, i_prime] * (first_factor @ second_factor)\n"
   ],
   "metadata": {
    "collapsed": false,
    "ExecuteTime": {
     "end_time": "2023-12-05T05:48:47.704897Z",
     "start_time": "2023-12-05T05:48:47.700429Z"
    }
   },
   "id": "3f04844f2f8a24d0"
  },
  {
   "cell_type": "code",
   "execution_count": 11,
   "outputs": [
    {
     "data": {
      "text/plain": "array([-0.08234317, -0.09881181, -0.06587454, -0.0494059 , -0.06587454,\n       -0.0901441 , -0.05720683, -0.0407382 , -0.0494059 , -0.07367547,\n       -0.0407382 , -0.02426957, -0.03293727, -0.05720683, -0.02426957,\n       -0.00780093])"
     },
     "execution_count": 11,
     "metadata": {},
     "output_type": "execute_result"
    }
   ],
   "source": [
    "new_HA = -(1-1/20) * profit_term - 1/20 * welfare_term\n",
    "new_HA.diagonal()"
   ],
   "metadata": {
    "collapsed": false,
    "ExecuteTime": {
     "end_time": "2023-12-05T05:48:48.659268Z",
     "start_time": "2023-12-05T05:48:48.655172Z"
    }
   },
   "id": "b5aae8315b8dcbec"
  },
  {
   "cell_type": "code",
   "execution_count": 17,
   "outputs": [
    {
     "name": "stdout",
     "output_type": "stream",
     "text": [
      "-0.08234317134461927\n",
      "-0.08234317134461927\n",
      "-0.09881180561354312\n",
      "-0.09881180561354314\n",
      "-0.0658745370756954\n",
      "-0.0658745370756954\n",
      "-0.04940590280677156\n",
      "-0.04940590280677157\n",
      "-0.06587453707569542\n",
      "-0.06587453707569542\n",
      "-0.0901441033667411\n",
      "-0.0901441033667411\n",
      "-0.057206834828893396\n",
      "-0.057206834828893396\n",
      "-0.04073820055996954\n",
      "-0.04073820055996954\n",
      "-0.04940590280677157\n",
      "-0.04940590280677157\n",
      "-0.07367546909781723\n",
      "-0.07367546909781723\n",
      "-0.04073820055996953\n",
      "-0.04073820055996953\n",
      "-0.024269566291045677\n",
      "-0.024269566291045677\n",
      "-0.03293726853784771\n",
      "-0.0329372685378477\n",
      "-0.05720683482889339\n",
      "-0.05720683482889339\n",
      "-0.024269566291045677\n",
      "-0.024269566291045677\n",
      "-0.007800932022121826\n",
      "-0.007800932022121826\n"
     ]
    }
   ],
   "source": [
    "for term in new_HA.diagonal():\n",
    "    print(term)\n",
    "    print(find_closest(term, old_HA.diagonal()))\n",
    "    continue\n"
   ],
   "metadata": {
    "collapsed": false,
    "ExecuteTime": {
     "end_time": "2023-12-05T05:49:21.091491Z",
     "start_time": "2023-12-05T05:49:21.085703Z"
    }
   },
   "id": "99af6dcb88a0c66d"
  },
  {
   "cell_type": "code",
   "execution_count": 12,
   "outputs": [],
   "source": [
    "old = CYPStatevectorSim(Qs=Qs, As= As, J=1, Epsilon=1/20, Parameters=[1],InitialState=\"ones\")\n",
    "old_HA = old.HA"
   ],
   "metadata": {
    "collapsed": false,
    "ExecuteTime": {
     "end_time": "2023-12-05T05:49:02.877693Z",
     "start_time": "2023-12-05T05:49:02.870745Z"
    }
   },
   "id": "36c067e6491172a1"
  },
  {
   "cell_type": "code",
   "execution_count": 64,
   "outputs": [
    {
     "name": "stdout",
     "output_type": "stream",
     "text": [
      "0\n",
      "-----\n",
      "110\n",
      "1101\n",
      "100011\n",
      "100100\n",
      "101010\n",
      "110000\n",
      "*****\n",
      "1\n",
      "-----\n",
      "111\n",
      "1110\n",
      "10100\n",
      "100101\n",
      "101011\n",
      "101100\n",
      "110001\n",
      "111000\n",
      "*****\n",
      "10\n",
      "-----\n",
      "101\n",
      "1100\n",
      "100010\n",
      "101001\n",
      "*****\n",
      "11\n",
      "-----\n",
      "100\n",
      "100001\n",
      "101000\n",
      "*****\n",
      "100\n",
      "-----\n",
      "101\n",
      "1100\n",
      "100010\n",
      "101001\n",
      "*****\n",
      "101\n",
      "-----\n",
      "10010\n",
      "11001\n",
      "*****\n",
      "110\n",
      "-----\n",
      "11\n",
      "1010\n",
      "10000\n",
      "*****\n",
      "111\n",
      "-----\n",
      "10\n",
      "1001\n",
      "*****\n",
      "1000\n",
      "-----\n",
      "100\n",
      "100001\n",
      "101000\n",
      "*****\n",
      "1001\n",
      "-----\n",
      "1011\n",
      "10001\n",
      "11000\n",
      "*****\n",
      "1010\n",
      "-----\n",
      "10\n",
      "1001\n",
      "*****\n",
      "1011\n",
      "-----\n",
      "1\n",
      "1000\n",
      "*****\n",
      "1100\n",
      "-----\n",
      "100000\n",
      "*****\n",
      "1101\n",
      "-----\n",
      "11\n",
      "1010\n",
      "10000\n",
      "*****\n",
      "1110\n",
      "-----\n",
      "1\n",
      "1000\n",
      "*****\n",
      "1111\n",
      "-----\n",
      "0\n",
      "*****\n"
     ]
    }
   ],
   "source": [
    "for i in range(2**n):\n",
    "    state = np.zeros(2**n)\n",
    "    state[i] = 1\n",
    "    h = new_HA.diagonal() @ state\n",
    "    indicies = np.where(np.isclose(h, old_HA.diagonal()))[0]\n",
    "    print(bin(i)[2:])\n",
    "    print(\"-\"*5)\n",
    "    for index in indicies:\n",
    "        print(bin(index)[2:])\n",
    "    print(\"*\"*5)\n",
    "\n",
    "\n"
   ],
   "metadata": {
    "collapsed": false,
    "ExecuteTime": {
     "end_time": "2023-12-05T06:46:19.932418Z",
     "start_time": "2023-12-05T06:46:19.928690Z"
    }
   },
   "id": "c5d1a053470acb6f"
  },
  {
   "cell_type": "code",
   "execution_count": 65,
   "outputs": [
    {
     "data": {
      "text/plain": "array([[0.03467081, 0.05200621, 0.0173354 ],\n       [0.05200621, 0.03467081, 0.0173354 ]])"
     },
     "execution_count": 65,
     "metadata": {},
     "output_type": "execute_result"
    }
   ],
   "source": [
    "Qs"
   ],
   "metadata": {
    "collapsed": false,
    "ExecuteTime": {
     "end_time": "2023-12-05T06:51:31.248470Z",
     "start_time": "2023-12-05T06:51:31.244506Z"
    }
   },
   "id": "181cfb907ab9bbd7"
  },
  {
   "cell_type": "code",
   "execution_count": null,
   "outputs": [],
   "source": [
    "old_HA.diagonal()[]"
   ],
   "metadata": {
    "collapsed": false
   },
   "id": "6fc8d0b9bc1ca8e6"
  },
  {
   "cell_type": "code",
   "execution_count": 181,
   "outputs": [
    {
     "data": {
      "text/plain": "array([[0., 0., 0., 0., 0., 0., 0., 0., 0., 0., 0., 0., 0., 0., 0., 0.],\n       [0., 1., 0., 0., 0., 0., 0., 0., 0., 0., 0., 0., 0., 0., 0., 0.],\n       [0., 0., 0., 0., 0., 0., 0., 0., 0., 0., 0., 0., 0., 0., 0., 0.],\n       [0., 0., 0., 0., 0., 0., 0., 0., 0., 0., 0., 0., 0., 0., 0., 0.],\n       [0., 0., 0., 0., 0., 0., 0., 0., 0., 0., 0., 0., 0., 0., 0., 0.],\n       [0., 0., 0., 0., 0., 1., 0., 0., 0., 0., 0., 0., 0., 0., 0., 0.],\n       [0., 0., 0., 0., 0., 0., 0., 0., 0., 0., 0., 0., 0., 0., 0., 0.],\n       [0., 0., 0., 0., 0., 0., 0., 0., 0., 0., 0., 0., 0., 0., 0., 0.],\n       [0., 0., 0., 0., 0., 0., 0., 0., 0., 0., 0., 0., 0., 0., 0., 0.],\n       [0., 0., 0., 0., 0., 0., 0., 0., 0., 1., 0., 0., 0., 0., 0., 0.],\n       [0., 0., 0., 0., 0., 0., 0., 0., 0., 0., 0., 0., 0., 0., 0., 0.],\n       [0., 0., 0., 0., 0., 0., 0., 0., 0., 0., 0., 0., 0., 0., 0., 0.],\n       [0., 0., 0., 0., 0., 0., 0., 0., 0., 0., 0., 0., 0., 0., 0., 0.],\n       [0., 0., 0., 0., 0., 0., 0., 0., 0., 0., 0., 0., 0., 1., 0., 0.],\n       [0., 0., 0., 0., 0., 0., 0., 0., 0., 0., 0., 0., 0., 0., 0., 0.],\n       [0., 0., 0., 0., 0., 0., 0., 0., 0., 0., 0., 0., 0., 0., 0., 0.]])"
     },
     "execution_count": 181,
     "metadata": {},
     "output_type": "execute_result"
    }
   ],
   "source": [
    "max_n = qubits_number_for_number_of_actions(3)\n",
    "n = get_qubits_number(loanee=2, action=3)\n",
    "i = np.random.randint(5)\n",
    "j = np.random.randint(3)\n",
    "nu_ij(i,j, max_n, loanees=2)"
   ],
   "metadata": {
    "collapsed": false,
    "ExecuteTime": {
     "end_time": "2023-11-26T11:27:04.804059Z",
     "start_time": "2023-11-26T11:27:04.795592Z"
    }
   },
   "id": "6f7bd2e192f0a4a1"
  },
  {
   "cell_type": "code",
   "execution_count": 42,
   "outputs": [
    {
     "data": {
      "text/plain": "array([[1., 0.],\n       [0., 1.]])"
     },
     "execution_count": 42,
     "metadata": {},
     "output_type": "execute_result"
    }
   ],
   "source": [
    "np.kron(PAULI_I, np.kron(PAULI_I, PAULI_I))\n",
    "np.kron(np.identity(1), np.identity(2))\n"
   ],
   "metadata": {
    "collapsed": false,
    "ExecuteTime": {
     "end_time": "2023-11-26T09:20:29.482158Z",
     "start_time": "2023-11-26T09:20:29.475433Z"
    }
   },
   "id": "39a2eac27b6ef61"
  },
  {
   "cell_type": "code",
   "execution_count": 17,
   "outputs": [
    {
     "data": {
      "text/plain": "array([[0., 0., 0., 0., 0., 0., 0., 0., 0., 0., 0., 0., 0., 0., 0., 1.],\n       [0., 0., 0., 0., 0., 0., 0., 0., 0., 0., 0., 0., 0., 0., 1., 0.],\n       [0., 0., 0., 0., 0., 0., 0., 0., 0., 0., 0., 0., 0., 1., 0., 0.],\n       [0., 0., 0., 0., 0., 0., 0., 0., 0., 0., 0., 0., 1., 0., 0., 0.],\n       [0., 0., 0., 0., 0., 0., 0., 0., 0., 0., 0., 1., 0., 0., 0., 0.],\n       [0., 0., 0., 0., 0., 0., 0., 0., 0., 0., 1., 0., 0., 0., 0., 0.],\n       [0., 0., 0., 0., 0., 0., 0., 0., 0., 1., 0., 0., 0., 0., 0., 0.],\n       [0., 0., 0., 0., 0., 0., 0., 0., 1., 0., 0., 0., 0., 0., 0., 0.],\n       [0., 0., 0., 0., 0., 0., 0., 1., 0., 0., 0., 0., 0., 0., 0., 0.],\n       [0., 0., 0., 0., 0., 0., 1., 0., 0., 0., 0., 0., 0., 0., 0., 0.],\n       [0., 0., 0., 0., 0., 1., 0., 0., 0., 0., 0., 0., 0., 0., 0., 0.],\n       [0., 0., 0., 0., 1., 0., 0., 0., 0., 0., 0., 0., 0., 0., 0., 0.],\n       [0., 0., 0., 1., 0., 0., 0., 0., 0., 0., 0., 0., 0., 0., 0., 0.],\n       [0., 0., 1., 0., 0., 0., 0., 0., 0., 0., 0., 0., 0., 0., 0., 0.],\n       [0., 1., 0., 0., 0., 0., 0., 0., 0., 0., 0., 0., 0., 0., 0., 0.],\n       [1., 0., 0., 0., 0., 0., 0., 0., 0., 0., 0., 0., 0., 0., 0., 0.]])"
     },
     "execution_count": 17,
     "metadata": {},
     "output_type": "execute_result"
    }
   ],
   "source": [
    "la = np.kron(PAULI_X, PAULI_X)\n",
    "la = np.kron(PAULI_X, la)\n",
    "la = np.kron(PAULI_X, la)"
   ],
   "metadata": {
    "collapsed": false,
    "ExecuteTime": {
     "end_time": "2023-12-05T16:51:57.410918Z",
     "start_time": "2023-12-05T16:51:57.405003Z"
    }
   },
   "id": "6691344224395d80"
  }
 ],
 "metadata": {
  "kernelspec": {
   "display_name": "Python 3",
   "language": "python",
   "name": "python3"
  },
  "language_info": {
   "codemirror_mode": {
    "name": "ipython",
    "version": 2
   },
   "file_extension": ".py",
   "mimetype": "text/x-python",
   "name": "python",
   "nbconvert_exporter": "python",
   "pygments_lexer": "ipython2",
   "version": "2.7.6"
  }
 },
 "nbformat": 4,
 "nbformat_minor": 5
}
