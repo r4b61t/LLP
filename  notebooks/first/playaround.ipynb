{
 "cells": [
  {
   "cell_type": "code",
   "execution_count": 1,
   "id": "initial_id",
   "metadata": {
    "collapsed": true,
    "ExecuteTime": {
     "end_time": "2024-01-22T07:08:11.499328Z",
     "start_time": "2024-01-22T07:08:10.912367Z"
    }
   },
   "outputs": [],
   "source": [
    "from new_basis_llp_qaoa.statevector_sim import CYPStateVector \n",
    "from new_basis_llp_qaoa.statevector_sim.cyp_statevector_sim import CYPStatevectorSim\n",
    "import numpy as np\n",
    "from matplotlib import pyplot as plt"
   ]
  },
  {
   "cell_type": "code",
   "execution_count": 2,
   "outputs": [],
   "source": [
    "from scipy import sparse\n",
    "# Q-Learning values. (Discounted Payoff action is in first column).\n",
    "Qs = sparse.load_npz('data/Qs.npz').toarray()\n",
    "\n",
    "# Association matrix\n",
    "As = sparse.load_npz('data/As.npz').toarray()\n",
    "\n",
    "# Provision constraints\n",
    "Ls = sparse.load_npz('data/Ls.npz').toarray()\n",
    "\n",
    "res = []\n",
    "for j in As:\n",
    "    for i in j:\n",
    "        if np.abs(i) > 0.0000000001:\n",
    "            res.append(i)\n",
    "plt.hist(res), 1 - len(res)/600**2"
   ],
   "metadata": {
    "collapsed": false
   },
   "id": "2eab46abc6828238"
  },
  {
   "cell_type": "code",
   "execution_count": 58,
   "outputs": [],
   "source": [
    "\n",
    "from scipy import sparse\n",
    "# Q-Learning values. (Discounted Payoff action is in first column).\n",
    "Qs = sparse.load_npz('data/Qs.npz').toarray()\n",
    "\n",
    "# Association matrix\n",
    "As = sparse.load_npz('data/As.npz').toarray()\n",
    "\n",
    "# Provision constraints\n",
    "Ls = sparse.load_npz('data/Ls.npz').toarray()\n",
    "\n"
   ],
   "metadata": {
    "collapsed": false
   },
   "id": "e2f8ffa4bb0d0ae0"
  },
  {
   "cell_type": "code",
   "execution_count": 59,
   "outputs": [],
   "source": [
    "Qs_with_4_actions = Qs[:,:4]\n",
    "Ls_with_4_actions = Qs[:,:4]"
   ],
   "metadata": {
    "collapsed": false
   },
   "id": "8e2a3ca328677f2c"
  },
  {
   "cell_type": "code",
   "execution_count": 60,
   "outputs": [],
   "source": [
    "# pick 100 and check if the picked has non zero value at indices outside index subset"
   ],
   "metadata": {
    "collapsed": false
   },
   "id": "132b16bc20e5f671"
  },
  {
   "cell_type": "code",
   "execution_count": 61,
   "outputs": [],
   "source": [
    "from tqdm import tqdm\n",
    "bad_indices_list = []\n",
    "size = 599\n",
    "for seed in tqdm(range(100)):\n",
    "    np.random.seed(seed)\n",
    "    index_subset = set(np.random.choice(range(600), size, replace=False))\n",
    "    bad_indices = 0\n",
    "    for i in index_subset:\n",
    "        row = As[i]\n",
    "        for j, entry in enumerate(row):\n",
    "            if entry > 0 and j not in index_subset:\n",
    "                bad_indices += 1\n",
    "                break\n",
    "    bad_indices_list.append(bad_indices)"
   ],
   "metadata": {
    "collapsed": false
   },
   "id": "ca742bb0e857d500"
  },
  {
   "cell_type": "code",
   "execution_count": 62,
   "outputs": [],
   "source": [
    "sorted(bad_indices_list)[0]"
   ],
   "metadata": {
    "collapsed": false
   },
   "id": "66413dc65a53e8ac"
  },
  {
   "cell_type": "code",
   "execution_count": 65,
   "outputs": [],
   "source": [
    "import networkx as nx\n",
    "G : nx.Graph = nx.from_numpy_array(As)\n",
    "connected_components = list(nx.connected_components(G))\n",
    "for graph in connected_components:\n",
    "    print(len(graph))\n"
   ],
   "metadata": {
    "collapsed": false
   },
   "id": "486301463b5779fd"
  },
  {
   "cell_type": "code",
   "execution_count": 72,
   "outputs": [],
   "source": [
    "s_G : nx.Graph = G.subgraph(connected_components[0])\n",
    "new_As = nx.to_numpy_array(s_G)"
   ],
   "metadata": {
    "collapsed": false
   },
   "id": "d2cf13e832d24c37"
  },
  {
   "cell_type": "code",
   "execution_count": 73,
   "outputs": [],
   "source": [
    "from ibmq_utils import generate_random_dataset\n",
    "\n",
    "G = nx.from_numpy_array(As)\n",
    "connected_components = list(nx.connected_components(G))\n",
    "\n",
    "# Count the number of connected components\n",
    "num_connected_components = len(connected_components)\n",
    "\n",
    "# Print the result\n",
    "print(\"Number of connected components:\", num_connected_components)\n",
    "\n"
   ],
   "metadata": {
    "collapsed": false
   },
   "id": "2e510ae58a17b9b4"
  },
  {
   "cell_type": "code",
   "execution_count": 75,
   "outputs": [],
   "source": [
    "\n",
    "from tew_code.qtft_tools import DC_QAOA\n",
    "m = DC_QAOA(Qs_with_4_actions[:594], new_As, 1.0, 1, 1, 5)\n",
    "m.set_communities()\n",
    "\n",
    "\n"
   ],
   "metadata": {
    "collapsed": false
   },
   "id": "d8899607f2bd193f"
  },
  {
   "cell_type": "code",
   "execution_count": 81,
   "outputs": [],
   "source": [
    "(2**10) **2"
   ],
   "metadata": {
    "collapsed": false
   },
   "id": "f9b32f42b44bc94b"
  },
  {
   "cell_type": "code",
   "execution_count": 16,
   "outputs": [
    {
     "name": "stdout",
     "output_type": "stream",
     "text": [
      "Memory consumption: 134217728 bytes, 131072.00 KB, 128.00 MB\n"
     ]
    }
   ],
   "source": [],
   "metadata": {
    "collapsed": false,
    "ExecuteTime": {
     "end_time": "2024-01-25T10:11:39.879724Z",
     "start_time": "2024-01-25T10:11:39.795083Z"
    }
   },
   "id": "98b451463e289be1"
  }
 ],
 "metadata": {
  "kernelspec": {
   "display_name": "Python 3",
   "language": "python",
   "name": "python3"
  },
  "language_info": {
   "codemirror_mode": {
    "name": "ipython",
    "version": 2
   },
   "file_extension": ".py",
   "mimetype": "text/x-python",
   "name": "python",
   "nbconvert_exporter": "python",
   "pygments_lexer": "ipython2",
   "version": "2.7.6"
  }
 },
 "nbformat": 4,
 "nbformat_minor": 5
}
