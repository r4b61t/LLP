{
 "cells": [
  {
   "cell_type": "code",
   "execution_count": 1,
   "id": "initial_id",
   "metadata": {
    "collapsed": true,
    "ExecuteTime": {
     "end_time": "2024-01-28T07:45:07.409688Z",
     "start_time": "2024-01-28T07:45:06.866922Z"
    }
   },
   "outputs": [],
   "source": [
    "from new_basis_llp_qaoa.statevector_sim.statevector_llp import StateVectorLLP\n",
    "import numpy as np\n",
    "from ibmq_utils import generate_random_dataset\n",
    "from scipy.sparse import identity, csc_matrix\n",
    "from scipy.sparse.linalg import expm, eigsh\n",
    "from new_basis_llp_qaoa.statevector_sim.statevector_llp import unitary_a\n",
    "from new_basis_llp_qaoa.statevector_sim.statevector_llp_v2 import StateVectorLLPV2\n",
    "from PIL import Image\n"
   ]
  },
  {
   "cell_type": "code",
   "execution_count": 2,
   "outputs": [],
   "source": [
    "\n",
    "\n",
    "np.random.seed(40)\n",
    "As, Qs = generate_random_dataset(4, 6)\n",
    "state = \"ones\"\n",
    "p = 1\n",
    "svllp = StateVectorLLP(Qs, As, 1 / 20, p, state)\n",
    "svllp2 = StateVectorLLPV2(Qs, As, 1 / 20, p)\n",
    "\n",
    "\n"
   ],
   "metadata": {
    "collapsed": false,
    "ExecuteTime": {
     "end_time": "2024-01-28T07:45:07.414772Z",
     "start_time": "2024-01-28T07:45:07.411054Z"
    }
   },
   "id": "af1684303082526c"
  },
  {
   "cell_type": "code",
   "execution_count": 7,
   "outputs": [
    {
     "name": "stderr",
     "output_type": "stream",
     "text": [
      "Optimizing:   0%|          | 0/20 [00:00<?, ?it/s]\n",
      "caching small ub:   0%|          | 0/17 [00:00<?, ?it/s]\u001B[A\n",
      "caching small ub:  18%|█▊        | 3/17 [00:22<01:45,  7.54s/it]\u001B[A\n",
      "caching small ub:  24%|██▎       | 4/17 [00:49<02:58, 13.70s/it]\u001B[A\n",
      "caching small ub:  29%|██▉       | 5/17 [01:18<03:43, 18.65s/it]\u001B[A\n",
      "caching small ub:  35%|███▌      | 6/17 [01:49<04:05, 22.33s/it]\u001B[A\n",
      "caching small ub:  41%|████      | 7/17 [02:12<03:45, 22.58s/it]\u001B[A\n",
      "caching small ub:  47%|████▋     | 8/17 [02:39<03:35, 23.94s/it]\u001B[A\n",
      "caching small ub:  53%|█████▎    | 9/17 [03:02<03:09, 23.64s/it]\u001B[A\n",
      "caching small ub:  59%|█████▉    | 10/17 [03:23<02:41, 23.01s/it]\u001B[A\n",
      "caching small ub:  65%|██████▍   | 11/17 [03:42<02:10, 21.73s/it]\u001B[A\n",
      "caching small ub:  71%|███████   | 12/17 [04:01<01:44, 20.86s/it]\u001B[A\n",
      "caching small ub:  76%|███████▋  | 13/17 [04:20<01:21, 20.34s/it]\u001B[A\n",
      "caching small ub:  82%|████████▏ | 14/17 [04:38<00:59, 19.76s/it]\u001B[A\n",
      "caching small ub:  88%|████████▊ | 15/17 [04:57<00:38, 19.31s/it]\u001B[A\n",
      "caching small ub:  94%|█████████▍| 16/17 [05:16<00:19, 19.15s/it]\u001B[A\n",
      "caching small ub: 100%|██████████| 17/17 [05:37<00:00, 19.86s/it]\u001B[A\n",
      "Optimizing: 21it [09:50, 28.14s/it]                          \n"
     ]
    },
    {
     "data": {
      "text/plain": " message: Maximum number of function evaluations has been exceeded.\n success: False\n  status: 2\n     fun: -2.241760766837027\n       x: [ 6.896e-01 -1.571e+00]\n    nfev: 20\n   maxcv: 0.0"
     },
     "execution_count": 7,
     "metadata": {},
     "output_type": "execute_result"
    }
   ],
   "source": [
    "svllp.use_sparse = True\n",
    "res = svllp.run_optimizer(maxiter=20)\n",
    "res"
   ],
   "metadata": {
    "collapsed": false,
    "ExecuteTime": {
     "end_time": "2024-01-28T10:45:46.545758Z",
     "start_time": "2024-01-28T10:35:55.683508Z"
    }
   },
   "id": "4eb9a91771d5e188"
  },
  {
   "cell_type": "code",
   "execution_count": 8,
   "outputs": [
    {
     "name": "stderr",
     "output_type": "stream",
     "text": [
      "Optimizing: 21it [03:48, 10.87s/it]                        \n"
     ]
    },
    {
     "data": {
      "text/plain": " message: Maximum number of function evaluations has been exceeded.\n success: False\n  status: 2\n     fun: -2.31024631338671\n       x: [-7.163e-01  1.571e+00]\n    nfev: 20\n   maxcv: 0.0"
     },
     "execution_count": 8,
     "metadata": {},
     "output_type": "execute_result"
    }
   ],
   "source": [
    "res2 = svllp2.run_optimizer(maxiter=20)\n",
    "res2"
   ],
   "metadata": {
    "collapsed": false,
    "ExecuteTime": {
     "end_time": "2024-01-28T10:49:34.884587Z",
     "start_time": "2024-01-28T10:45:46.555869Z"
    }
   },
   "id": "ca299d4b59fcfad7"
  },
  {
   "cell_type": "code",
   "execution_count": 5,
   "outputs": [
    {
     "data": {
      "text/plain": "array([0.01317586-0.00842951j, 0.01237388-0.00956546j,\n       0.0127875 -0.00900637j, 0.01230634-0.00965215j,\n       0.01274165-0.00907071j, 0.0118844 -0.01016553j,\n       0.0123252 -0.00962762j, 0.01181265-0.01024876j,\n       0.01251278-0.00938319j, 0.01162867-0.01045642j])"
     },
     "execution_count": 5,
     "metadata": {},
     "output_type": "execute_result"
    }
   ],
   "source": [
    "svllp2.psi[:10]"
   ],
   "metadata": {
    "collapsed": false,
    "ExecuteTime": {
     "end_time": "2024-01-28T10:32:24.102142Z",
     "start_time": "2024-01-28T10:32:24.091392Z"
    }
   },
   "id": "6b7ae03398971618"
  },
  {
   "cell_type": "markdown",
   "source": [
    "Calculating profit term.: 100%|██████████| 6/6 [00:00<00:00, 253.01it/s]\n",
    "Calculating welfare term.: 100%|██████████| 6/6 [00:00<00:00, 204.07it/s]\n",
    "Optimizing:   0%|          | 0/20 [00:00<?, ?it/s]\n",
    "Calculating HB.: 100%|██████████| 11/11 [00:00<00:00, 335.98it/s]\n",
    "\n",
    "Calculating taylor series terms for HB.:   0%|          | 0/9 [00:00<?, ?it/s]\u001B[A\n",
    "Calculating taylor series terms for HB.:  44%|████▍     | 4/9 [00:00<00:00, 33.40it/s]\u001B[A\n",
    "Calculating taylor series terms for HB.: 100%|██████████| 9/9 [00:02<00:00,  3.89it/s]\u001B[A\n",
    "\n",
    "caching small ub:   0%|          | 0/17 [00:00<?, ?it/s]\u001B[A\n",
    "caching small ub:  18%|█▊        | 3/17 [00:12<00:57,  4.12s/it]\u001B[A\n",
    "caching small ub:  24%|██▎       | 4/17 [00:24<01:27,  6.75s/it]\u001B[A\n",
    "caching small ub:  29%|██▉       | 5/17 [00:37<01:42,  8.55s/it]\u001B[A\n",
    "caching small ub:  35%|███▌      | 6/17 [00:50<01:49,  9.93s/it]\u001B[A\n",
    "caching small ub:  41%|████      | 7/17 [01:02<01:47, 10.80s/it]\u001B[A\n",
    "caching small ub:  47%|████▋     | 8/17 [01:15<01:42, 11.36s/it]\u001B[A\n",
    "caching small ub:  53%|█████▎    | 9/17 [01:28<01:35, 11.96s/it]\u001B[A\n",
    "caching small ub:  59%|█████▉    | 10/17 [01:41<01:26, 12.33s/it]\u001B[A\n",
    "caching small ub:  65%|██████▍   | 11/17 [01:55<01:16, 12.67s/it]\u001B[A\n",
    "caching small ub:  71%|███████   | 12/17 [02:08<01:04, 12.87s/it]\u001B[A\n",
    "caching small ub:  76%|███████▋  | 13/17 [02:22<00:52, 13.07s/it]\u001B[A\n",
    "caching small ub:  82%|████████▏ | 14/17 [02:35<00:39, 13.01s/it]\u001B[A\n",
    "caching small ub:  88%|████████▊ | 15/17 [02:48<00:26, 13.23s/it]\u001B[A\n",
    "caching small ub:  94%|█████████▍| 16/17 [03:02<00:13, 13.27s/it]\u001B[A\n",
    "caching small ub: 100%|██████████| 17/17 [03:15<00:00, 11.51s/it]\u001B[A\n",
    "Optimizing: 21it [06:21, 18.15s/it]                          \n",
    "\n",
    "1.0\n",
    "1.0\n",
    "1.0000090713334207\n"
   ],
   "metadata": {
    "collapsed": false
   },
   "id": "c3cf35dc085e1f74"
  }
 ],
 "metadata": {
  "kernelspec": {
   "display_name": "Python 3",
   "language": "python",
   "name": "python3"
  },
  "language_info": {
   "codemirror_mode": {
    "name": "ipython",
    "version": 2
   },
   "file_extension": ".py",
   "mimetype": "text/x-python",
   "name": "python",
   "nbconvert_exporter": "python",
   "pygments_lexer": "ipython2",
   "version": "2.7.6"
  }
 },
 "nbformat": 4,
 "nbformat_minor": 5
}
