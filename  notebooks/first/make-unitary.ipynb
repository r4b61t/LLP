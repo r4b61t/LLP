{
 "cells": [
  {
   "cell_type": "code",
   "execution_count": 100,
   "outputs": [],
   "source": [
    "from scipy.sparse import csc_array, identity, dia_array\n",
    "from scipy.sparse.linalg import expm\n",
    "import numpy as np"
   ],
   "metadata": {
    "collapsed": false,
    "ExecuteTime": {
     "end_time": "2023-12-27T04:09:56.243222Z",
     "start_time": "2023-12-27T04:09:56.238454Z"
    }
   },
   "id": "1b336047cd77991e"
  },
  {
   "cell_type": "code",
   "execution_count": 101,
   "outputs": [
    {
     "data": {
      "text/plain": "(2097152, 2097152)"
     },
     "execution_count": 101,
     "metadata": {},
     "output_type": "execute_result"
    }
   ],
   "source": [
    "dia = np.exp(np.random.rand(2**21))\n",
    "dia_array((dia,0), shape=(2**21,2**21)).shape\n"
   ],
   "metadata": {
    "collapsed": false,
    "ExecuteTime": {
     "end_time": "2023-12-27T04:10:47.151055Z",
     "start_time": "2023-12-27T04:10:47.098209Z"
    }
   },
   "id": "a7f402024960e39c"
  },
  {
   "cell_type": "code",
   "execution_count": 103,
   "outputs": [],
   "source": [
    "I = identity(5)\n",
    "dia = [-0.1,-0.33,-0.2,99, 198]*3\n",
    "X = dia_array((dia,0), shape=(15,15)).tocsc()"
   ],
   "metadata": {
    "collapsed": false,
    "ExecuteTime": {
     "end_time": "2023-12-27T04:11:27.624949Z",
     "start_time": "2023-12-27T04:11:27.616575Z"
    }
   },
   "id": "518fac89c8f59a21"
  },
  {
   "cell_type": "code",
   "execution_count": 104,
   "outputs": [
    {
     "name": "stderr",
     "output_type": "stream",
     "text": [
      "/Users/chayaponthunsetkul/Library/Caches/pypoetry/virtualenvs/newbasisimbq-JkixFnlr-py3.10/lib/python3.10/site-packages/scipy/sparse/_index.py:100: SparseEfficiencyWarning: Changing the sparsity structure of a csc_matrix is expensive. lil_matrix is more efficient.\n",
      "  self._set_intXint(row, col, x.flat[0])\n"
     ]
    },
    {
     "data": {
      "text/plain": "array([[9.04837418e-01, 0.00000000e+00, 0.00000000e+00, 0.00000000e+00,\n        0.00000000e+00, 0.00000000e+00, 0.00000000e+00, 0.00000000e+00,\n        0.00000000e+00, 0.00000000e+00, 0.00000000e+00, 0.00000000e+00,\n        0.00000000e+00, 0.00000000e+00, 0.00000000e+00],\n       [0.00000000e+00, 7.18923733e-01, 0.00000000e+00, 0.00000000e+00,\n        0.00000000e+00, 0.00000000e+00, 0.00000000e+00, 0.00000000e+00,\n        0.00000000e+00, 0.00000000e+00, 0.00000000e+00, 0.00000000e+00,\n        0.00000000e+00, 0.00000000e+00, 0.00000000e+00],\n       [0.00000000e+00, 0.00000000e+00, 8.18730753e-01, 0.00000000e+00,\n        0.00000000e+00, 0.00000000e+00, 0.00000000e+00, 0.00000000e+00,\n        0.00000000e+00, 0.00000000e+00, 0.00000000e+00, 0.00000000e+00,\n        0.00000000e+00, 0.00000000e+00, 0.00000000e+00],\n       [0.00000000e+00, 0.00000000e+00, 0.00000000e+00, 9.88903032e+42,\n        0.00000000e+00, 0.00000000e+00, 0.00000000e+00, 0.00000000e+00,\n        0.00000000e+00, 0.00000000e+00, 0.00000000e+00, 0.00000000e+00,\n        0.00000000e+00, 0.00000000e+00, 0.00000000e+00],\n       [0.00000000e+00, 0.00000000e+00, 0.00000000e+00, 0.00000000e+00,\n        9.77929207e+85, 0.00000000e+00, 0.00000000e+00, 0.00000000e+00,\n        0.00000000e+00, 0.00000000e+00, 0.00000000e+00, 0.00000000e+00,\n        0.00000000e+00, 0.00000000e+00, 0.00000000e+00],\n       [0.00000000e+00, 0.00000000e+00, 0.00000000e+00, 0.00000000e+00,\n        0.00000000e+00, 9.04837418e-01, 0.00000000e+00, 0.00000000e+00,\n        0.00000000e+00, 0.00000000e+00, 0.00000000e+00, 0.00000000e+00,\n        0.00000000e+00, 0.00000000e+00, 0.00000000e+00],\n       [0.00000000e+00, 0.00000000e+00, 0.00000000e+00, 0.00000000e+00,\n        0.00000000e+00, 0.00000000e+00, 7.18923733e-01, 0.00000000e+00,\n        0.00000000e+00, 0.00000000e+00, 0.00000000e+00, 0.00000000e+00,\n        0.00000000e+00, 0.00000000e+00, 0.00000000e+00],\n       [0.00000000e+00, 0.00000000e+00, 0.00000000e+00, 0.00000000e+00,\n        0.00000000e+00, 0.00000000e+00, 0.00000000e+00, 8.18730753e-01,\n        0.00000000e+00, 0.00000000e+00, 0.00000000e+00, 0.00000000e+00,\n        0.00000000e+00, 0.00000000e+00, 0.00000000e+00],\n       [0.00000000e+00, 0.00000000e+00, 0.00000000e+00, 0.00000000e+00,\n        0.00000000e+00, 0.00000000e+00, 0.00000000e+00, 0.00000000e+00,\n        9.88903032e+42, 0.00000000e+00, 0.00000000e+00, 0.00000000e+00,\n        0.00000000e+00, 0.00000000e+00, 0.00000000e+00],\n       [0.00000000e+00, 0.00000000e+00, 0.00000000e+00, 0.00000000e+00,\n        0.00000000e+00, 0.00000000e+00, 0.00000000e+00, 0.00000000e+00,\n        0.00000000e+00, 9.77929207e+85, 0.00000000e+00, 0.00000000e+00,\n        0.00000000e+00, 0.00000000e+00, 0.00000000e+00],\n       [0.00000000e+00, 0.00000000e+00, 0.00000000e+00, 0.00000000e+00,\n        0.00000000e+00, 0.00000000e+00, 0.00000000e+00, 0.00000000e+00,\n        0.00000000e+00, 0.00000000e+00, 9.04837418e-01, 0.00000000e+00,\n        0.00000000e+00, 0.00000000e+00, 0.00000000e+00],\n       [0.00000000e+00, 0.00000000e+00, 0.00000000e+00, 0.00000000e+00,\n        0.00000000e+00, 0.00000000e+00, 0.00000000e+00, 0.00000000e+00,\n        0.00000000e+00, 0.00000000e+00, 0.00000000e+00, 7.18923733e-01,\n        0.00000000e+00, 0.00000000e+00, 0.00000000e+00],\n       [0.00000000e+00, 0.00000000e+00, 0.00000000e+00, 0.00000000e+00,\n        0.00000000e+00, 0.00000000e+00, 0.00000000e+00, 0.00000000e+00,\n        0.00000000e+00, 0.00000000e+00, 0.00000000e+00, 0.00000000e+00,\n        8.18730753e-01, 0.00000000e+00, 0.00000000e+00],\n       [0.00000000e+00, 0.00000000e+00, 0.00000000e+00, 0.00000000e+00,\n        0.00000000e+00, 0.00000000e+00, 0.00000000e+00, 0.00000000e+00,\n        0.00000000e+00, 0.00000000e+00, 0.00000000e+00, 0.00000000e+00,\n        0.00000000e+00, 9.88903032e+42, 0.00000000e+00],\n       [0.00000000e+00, 0.00000000e+00, 0.00000000e+00, 0.00000000e+00,\n        0.00000000e+00, 0.00000000e+00, 0.00000000e+00, 0.00000000e+00,\n        0.00000000e+00, 0.00000000e+00, 0.00000000e+00, 0.00000000e+00,\n        0.00000000e+00, 0.00000000e+00, 9.77929207e+85]])"
     },
     "execution_count": 104,
     "metadata": {},
     "output_type": "execute_result"
    }
   ],
   "source": [
    "expm(X).toarray()"
   ],
   "metadata": {
    "collapsed": false,
    "ExecuteTime": {
     "end_time": "2023-12-27T04:11:28.652770Z",
     "start_time": "2023-12-27T04:11:28.520178Z"
    }
   },
   "id": "c11f9bff71caff5d"
  },
  {
   "cell_type": "markdown",
   "source": [
    "pade approximant:\n",
    "\n",
    "$$\n",
    "\\exp(x) \\approx \\frac{\n",
    "1+ (1/2)x + (1/9)x^2 + (1/72)x^3 + (1/1008)x^4 + (1/30240)x^5\n",
    "}{\n",
    "1- (1/2)x + (1/9)x^2 - (1/72)x^3 + (1/1008)x^4 - (1/30240)x^5\n",
    "}\n",
    "$$"
   ],
   "metadata": {
    "collapsed": false
   },
   "id": "87a4f0e2c39115d1"
  },
  {
   "cell_type": "code",
   "execution_count": 118,
   "outputs": [],
   "source": [
    "def pade_expm(x):\n",
    "    numerator = I + 1/2*x + 1/9*x**2 + 1/72 * x**3 + 1/1008 * x**4 + 1/30240 * x**5\n",
    "    denominator = I - 1/2*x + 1/9*x**2 - 1/72 * x**3 + 1/1008 * x**4 - 1/30240 * x**5\n",
    "    return numerator/denominator\n",
    "def taylor_expm(x):\n",
    "    return I + I + I/2 + I/6 + I/24\n",
    "def dia_expm(x: dia_array, scalar: complex):\n",
    "    shape = x.shape\n",
    "    dia = scalar*x.diagonal()\n",
    "    dia = np.exp(dia)\n",
    "    return dia_array((dia,0), shape=shape)\n"
   ],
   "metadata": {
    "collapsed": false,
    "ExecuteTime": {
     "end_time": "2023-12-27T04:25:55.075187Z",
     "start_time": "2023-12-27T04:25:55.068753Z"
    }
   },
   "id": "de2fa939d145cb4c"
  },
  {
   "cell_type": "code",
   "execution_count": 119,
   "outputs": [
    {
     "data": {
      "text/plain": "array([[2.70833333, 0.        , 0.        , 0.        , 0.        ],\n       [0.        , 2.70833333, 0.        , 0.        , 0.        ],\n       [0.        , 0.        , 2.70833333, 0.        , 0.        ],\n       [0.        , 0.        , 0.        , 2.70833333, 0.        ],\n       [0.        , 0.        , 0.        , 0.        , 2.70833333]])"
     },
     "execution_count": 119,
     "metadata": {},
     "output_type": "execute_result"
    }
   ],
   "source": [
    "taylor_expm(X).toarray()"
   ],
   "metadata": {
    "collapsed": false,
    "ExecuteTime": {
     "end_time": "2023-12-27T04:25:55.491181Z",
     "start_time": "2023-12-27T04:25:55.483786Z"
    }
   },
   "id": "46c64a7f4b2d53b1"
  },
  {
   "cell_type": "code",
   "execution_count": 120,
   "outputs": [],
   "source": [
    "from time import time"
   ],
   "metadata": {
    "collapsed": false,
    "ExecuteTime": {
     "end_time": "2023-12-27T04:25:55.778465Z",
     "start_time": "2023-12-27T04:25:55.771989Z"
    }
   },
   "id": "de43faf40b5b1138"
  },
  {
   "cell_type": "code",
   "execution_count": 121,
   "outputs": [
    {
     "name": "stderr",
     "output_type": "stream",
     "text": [
      "/Users/chayaponthunsetkul/Library/Caches/pypoetry/virtualenvs/newbasisimbq-JkixFnlr-py3.10/lib/python3.10/site-packages/scipy/sparse/linalg/_dsolve/linsolve.py:412: SparseEfficiencyWarning: splu converted its input to CSC format\n",
      "  warn('splu converted its input to CSC format', SparseEfficiencyWarning)\n",
      "/Users/chayaponthunsetkul/Library/Caches/pypoetry/virtualenvs/newbasisimbq-JkixFnlr-py3.10/lib/python3.10/site-packages/scipy/sparse/linalg/_dsolve/linsolve.py:302: SparseEfficiencyWarning: spsolve is more efficient when sparse b is in the CSC matrix format\n",
      "  warn('spsolve is more efficient when sparse b '\n"
     ]
    },
    {
     "name": "stdout",
     "output_type": "stream",
     "text": [
      "2.156798839569092\n",
      "0.01263284683227539\n"
     ]
    }
   ],
   "source": [
    "iter = 1000\n",
    "start = time()\n",
    "for _ in range(iter):\n",
    "    expm(I)\n",
    "print(time() - start)\n",
    "start = time()\n",
    "for _ in range(iter):\n",
    "    dia_expm(I,1)\n",
    "print(time() - start)\n"
   ],
   "metadata": {
    "collapsed": false,
    "ExecuteTime": {
     "end_time": "2023-12-27T04:25:58.763795Z",
     "start_time": "2023-12-27T04:25:56.592180Z"
    }
   },
   "id": "ce120662bf08c191"
  },
  {
   "cell_type": "code",
   "execution_count": 122,
   "outputs": [
    {
     "name": "stderr",
     "output_type": "stream",
     "text": [
      "/var/folders/qx/csm2q07x4x5dp2z8zh1xdjsm0000gn/T/ipykernel_53823/1970631530.py:2: SparseEfficiencyWarning: Comparing sparse matrices using == is inefficient, try using != instead.\n",
      "  (dia_expm(I, -1j*gamma) == expm(-1j * gamma *I)).toarray()\n"
     ]
    },
    {
     "data": {
      "text/plain": "array([[ True,  True,  True,  True,  True],\n       [ True,  True,  True,  True,  True],\n       [ True,  True,  True,  True,  True],\n       [ True,  True,  True,  True,  True],\n       [ True,  True,  True,  True,  True]])"
     },
     "execution_count": 122,
     "metadata": {},
     "output_type": "execute_result"
    }
   ],
   "source": [
    "gamma = 3\n",
    "(dia_expm(I, -1j*gamma) == expm(-1j * gamma *I)).toarray()"
   ],
   "metadata": {
    "collapsed": false,
    "ExecuteTime": {
     "end_time": "2023-12-27T04:26:00.024888Z",
     "start_time": "2023-12-27T04:26:00.018038Z"
    }
   },
   "id": "e7467c7b16f5c042"
  }
 ],
 "metadata": {
  "kernelspec": {
   "display_name": "Python 3",
   "language": "python",
   "name": "python3"
  },
  "language_info": {
   "codemirror_mode": {
    "name": "ipython",
    "version": 2
   },
   "file_extension": ".py",
   "mimetype": "text/x-python",
   "name": "python",
   "nbconvert_exporter": "python",
   "pygments_lexer": "ipython2",
   "version": "2.7.6"
  }
 },
 "nbformat": 4,
 "nbformat_minor": 5
}
