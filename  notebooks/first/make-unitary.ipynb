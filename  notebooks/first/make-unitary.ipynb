{
 "cells": [
  {
   "cell_type": "code",
   "execution_count": 1,
   "outputs": [
    {
     "name": "stderr",
     "output_type": "stream",
     "text": [
      "2024-01-27 22:49:11,053 - INFO - Getting initial state.\n"
     ]
    },
    {
     "data": {
      "text/plain": "1.0"
     },
     "execution_count": 1,
     "metadata": {},
     "output_type": "execute_result"
    }
   ],
   "source": [
    "import scipy.linalg\n",
    "\n",
    "import numpy as np\n",
    "import matplotlib.pyplot as plt\n",
    "from new_basis_llp_qaoa.statevector_sim.statevector_llp import StateVectorLLP\n",
    "import numpy as np\n",
    "from ibmq_utils import generate_random_dataset\n",
    "from scipy.sparse import identity, csc_matrix\n",
    "from scipy.sparse.linalg import expm, eigsh\n",
    "from new_basis_llp_qaoa.statevector_sim.statevector_llp import unitary_a\n",
    "from PIL import Image\n",
    "import logging\n",
    "from time import time\n",
    "logging.basicConfig(level=logging.INFO, format='%(asctime)s - %(levelname)s - %(message)s')\n",
    "\n",
    "np.random.seed(40)\n",
    "As, Qs = generate_random_dataset(4, 6)\n",
    "state = \"ones\"\n",
    "p = 1\n",
    "svllp = StateVectorLLP(Qs, As, 1 / 20, p, state)\n",
    "\n",
    "svllp.psi = svllp.get_initial_state(svllp.qubits_number)\n",
    "sum(svllp.probabilities)\n"
   ],
   "metadata": {
    "collapsed": false,
    "ExecuteTime": {
     "end_time": "2024-01-27T15:49:11.060456Z",
     "start_time": "2024-01-27T15:49:10.667112Z"
    }
   },
   "id": "9b5e8161b1577bbf"
  },
  {
   "cell_type": "code",
   "execution_count": 2,
   "outputs": [
    {
     "name": "stderr",
     "output_type": "stream",
     "text": [
      "2024-01-27 22:49:11,484 - INFO - Caching HB.\n",
      "Calculating HB.: 100%|██████████| 11/11 [00:00<00:00, 1148.01it/s]\n",
      "Calculating taylor series terms for HB.: 100%|██████████| 9/9 [00:02<00:00,  3.42it/s]\n",
      "caching small ub: 100%|██████████| 17/17 [02:47<00:00,  9.85s/it]\n"
     ]
    }
   ],
   "source": [
    "ub_cache = svllp.ub_integer_cache\n"
   ],
   "metadata": {
    "collapsed": false,
    "ExecuteTime": {
     "end_time": "2024-01-27T15:52:08.714056Z",
     "start_time": "2024-01-27T15:49:11.511356Z"
    }
   },
   "id": "3d23d6a8180666da"
  },
  {
   "cell_type": "code",
   "execution_count": 3,
   "outputs": [
    {
     "data": {
      "text/plain": "dict_keys([0, 1, -1, 2, -2, 3, -3, 4, -4, 5, -5, 6, -6, 7, -7, 8, -8, 9, -9, 10, -10, 11, -11, 12, -12, 13, -13, 14, -14, 15, -15, 16, -16])"
     },
     "execution_count": 3,
     "metadata": {},
     "output_type": "execute_result"
    }
   ],
   "source": [
    "ub_cache.keys()"
   ],
   "metadata": {
    "collapsed": false,
    "ExecuteTime": {
     "end_time": "2024-01-27T15:52:08.716338Z",
     "start_time": "2024-01-27T15:52:08.710801Z"
    }
   },
   "id": "4cdde673650c30b8"
  },
  {
   "cell_type": "code",
   "execution_count": 4,
   "outputs": [
    {
     "name": "stderr",
     "output_type": "stream",
     "text": [
      "2024-01-27 22:52:08,714 - INFO - Caching HA.\n",
      "Calculating profit term.: 100%|██████████| 6/6 [00:00<00:00, 182.90it/s]\n",
      "Calculating welfare term.: 100%|██████████| 6/6 [00:00<00:00, 219.11it/s]\n",
      "Optimizing:   5%|▌         | 1/20 [01:23<26:17, 83.01s/it]"
     ]
    },
    {
     "name": "stdout",
     "output_type": "stream",
     "text": [
      "[0. 0. 0. 0. 0. 0. 0.] \n",
      " [0. 0. 0. 0. 0. 0. 0.] \n",
      " -1.966706069094642\n"
     ]
    },
    {
     "name": "stderr",
     "output_type": "stream",
     "text": [
      "Optimizing:  10%|█         | 2/20 [02:44<24:35, 81.95s/it]"
     ]
    },
    {
     "name": "stdout",
     "output_type": "stream",
     "text": [
      "[0. 0. 0. 0. 0. 0. 0.] \n",
      " [1. 0. 0. 0. 0. 0. 0.] \n",
      " -1.9667368872298414\n"
     ]
    },
    {
     "name": "stderr",
     "output_type": "stream",
     "text": [
      "Optimizing:  15%|█▌        | 3/20 [04:05<23:09, 81.71s/it]"
     ]
    },
    {
     "name": "stdout",
     "output_type": "stream",
     "text": [
      "[0. 0. 0. 0. 0. 0. 0.] \n",
      " [1. 1. 0. 0. 0. 0. 0.] \n",
      " -1.9667677058479474\n"
     ]
    },
    {
     "name": "stderr",
     "output_type": "stream",
     "text": [
      "Optimizing:  20%|██        | 4/20 [05:28<21:57, 82.33s/it]"
     ]
    },
    {
     "name": "stdout",
     "output_type": "stream",
     "text": [
      "[0. 0. 0. 0. 0. 0. 0.] \n",
      " [1. 1. 1. 0. 0. 0. 0.] \n",
      " -1.9667985249489786\n"
     ]
    },
    {
     "name": "stderr",
     "output_type": "stream",
     "text": [
      "Optimizing:  25%|██▌       | 5/20 [06:58<21:16, 85.10s/it]"
     ]
    },
    {
     "name": "stdout",
     "output_type": "stream",
     "text": [
      "[0. 0. 0. 0. 0. 0. 0.] \n",
      " [1. 1. 1. 1. 0. 0. 0.] \n",
      " -1.966829344532946\n"
     ]
    },
    {
     "name": "stderr",
     "output_type": "stream",
     "text": [
      "Optimizing:  30%|███       | 6/20 [08:30<20:21, 87.23s/it]"
     ]
    },
    {
     "name": "stdout",
     "output_type": "stream",
     "text": [
      "[0. 0. 0. 0. 0. 0. 0.] \n",
      " [1. 1. 1. 1. 1. 0. 0.] \n",
      " -1.966860164599856\n"
     ]
    },
    {
     "name": "stderr",
     "output_type": "stream",
     "text": [
      "Optimizing:  35%|███▌      | 7/20 [10:04<19:24, 89.58s/it]"
     ]
    },
    {
     "name": "stdout",
     "output_type": "stream",
     "text": [
      "[0. 0. 0. 0. 0. 0. 0.] \n",
      " [1. 1. 1. 1. 1. 1. 0.] \n",
      " -1.9668909851497103\n"
     ]
    },
    {
     "name": "stderr",
     "output_type": "stream",
     "text": [
      "Optimizing:  40%|████      | 8/20 [11:38<18:09, 90.81s/it]"
     ]
    },
    {
     "name": "stdout",
     "output_type": "stream",
     "text": [
      "[0. 0. 0. 0. 0. 0. 0.] \n",
      " [1. 1. 1. 1. 1. 1. 1.] \n",
      " -1.966921806182521\n"
     ]
    },
    {
     "name": "stderr",
     "output_type": "stream",
     "text": [
      "Optimizing:  45%|████▌     | 9/20 [13:08<16:36, 90.63s/it]"
     ]
    },
    {
     "name": "stdout",
     "output_type": "stream",
     "text": [
      "[1. 0. 0. 0. 0. 0. 0.] \n",
      " [1. 1. 1. 1. 1. 1. 1.] \n",
      " -1.7938919223898477\n"
     ]
    },
    {
     "name": "stderr",
     "output_type": "stream",
     "text": [
      "Optimizing:  50%|█████     | 10/20 [14:51<15:43, 94.38s/it]"
     ]
    },
    {
     "name": "stdout",
     "output_type": "stream",
     "text": [
      "[0. 1. 0. 0. 0. 0. 0.] \n",
      " [1. 1. 1. 1. 1. 1. 1.] \n",
      " -2.075507898168448\n"
     ]
    },
    {
     "name": "stderr",
     "output_type": "stream",
     "text": [
      "Optimizing:  55%|█████▌    | 11/20 [16:19<13:52, 92.50s/it]"
     ]
    },
    {
     "name": "stdout",
     "output_type": "stream",
     "text": [
      "[0. 1. 1. 0. 0. 0. 0.] \n",
      " [1. 1. 1. 1. 1. 1. 1.] \n",
      " -2.1519858924685717\n"
     ]
    },
    {
     "name": "stderr",
     "output_type": "stream",
     "text": [
      "Optimizing:  60%|██████    | 12/20 [17:46<12:05, 90.72s/it]"
     ]
    },
    {
     "name": "stdout",
     "output_type": "stream",
     "text": [
      "[0. 1. 1. 1. 0. 0. 0.] \n",
      " [1. 1. 1. 1. 1. 1. 1.] \n",
      " -1.9853159224864392\n"
     ]
    },
    {
     "name": "stderr",
     "output_type": "stream",
     "text": [
      "Optimizing:  65%|██████▌   | 13/20 [19:14<10:29, 89.94s/it]"
     ]
    },
    {
     "name": "stdout",
     "output_type": "stream",
     "text": [
      "[0. 1. 1. 0. 1. 0. 0.] \n",
      " [1. 1. 1. 1. 1. 1. 1.] \n",
      " -2.209129027763763\n"
     ]
    },
    {
     "name": "stderr",
     "output_type": "stream",
     "text": [
      "Optimizing:  70%|███████   | 14/20 [20:42<08:55, 89.32s/it]"
     ]
    },
    {
     "name": "stdout",
     "output_type": "stream",
     "text": [
      "[0. 1. 1. 0. 1. 1. 0.] \n",
      " [1. 1. 1. 1. 1. 1. 1.] \n",
      " -2.311693150517903\n"
     ]
    },
    {
     "name": "stderr",
     "output_type": "stream",
     "text": [
      "Optimizing:  75%|███████▌  | 15/20 [22:07<07:20, 88.06s/it]"
     ]
    },
    {
     "name": "stdout",
     "output_type": "stream",
     "text": [
      "[0. 1. 1. 0. 1. 1. 1.] \n",
      " [1. 1. 1. 1. 1. 1. 1.] \n",
      " -2.174192523204747\n"
     ]
    },
    {
     "name": "stderr",
     "output_type": "stream",
     "text": [
      "Optimizing:  80%|████████  | 16/20 [23:36<05:53, 88.29s/it]"
     ]
    },
    {
     "name": "stdout",
     "output_type": "stream",
     "text": [
      "[-0.52639326  1.33034171  1.23266213 -0.50704507  1.17384142  1.31202161\n",
      " -0.4183058 ] \n",
      " [1.00009376 1.00009376 1.00009376 1.00009376 1.00009376 1.00009376\n",
      " 1.00009376] \n",
      " -2.57102657983595\n"
     ]
    },
    {
     "name": "stderr",
     "output_type": "stream",
     "text": [
      "Optimizing:  85%|████████▌ | 17/20 [25:03<04:24, 88.13s/it]"
     ]
    },
    {
     "name": "stdout",
     "output_type": "stream",
     "text": [
      "[-0.687276    1.57079633  1.53103578 -1.15729652  1.39678145  1.57079633\n",
      " -0.95475507] \n",
      " [1.00021399 1.00021399 1.000214   1.000214   1.000214   1.00021401\n",
      " 1.00021401] \n",
      " -2.699428664509469\n"
     ]
    },
    {
     "name": "stderr",
     "output_type": "stream",
     "text": [
      "Optimizing:  90%|█████████ | 18/20 [26:32<02:56, 88.26s/it]"
     ]
    },
    {
     "name": "stdout",
     "output_type": "stream",
     "text": [
      "[-1.54209144  1.57079633  1.57079633 -0.8121555   1.54471095  1.57079633\n",
      " -1.31071033] \n",
      " [1.00029377 1.00029378 1.00029378 1.00029378 1.00029379 1.00029379\n",
      " 1.0002938 ] \n",
      " -2.727859644682481\n"
     ]
    },
    {
     "name": "stderr",
     "output_type": "stream",
     "text": [
      "Optimizing:  95%|█████████▌| 19/20 [28:09<01:30, 90.89s/it]"
     ]
    },
    {
     "name": "stdout",
     "output_type": "stream",
     "text": [
      "[-1.54202835  1.5709734   1.57061925 -0.81209443  1.54471095  1.57079633\n",
      " -1.31071033] \n",
      " [1.5002937  1.00029378 1.00029378 1.00029378 1.00029379 1.00029379\n",
      " 1.0002938 ] \n",
      " -2.6181597820564906\n"
     ]
    },
    {
     "name": "stderr",
     "output_type": "stream",
     "text": [
      "Optimizing: 21it [30:16, 86.48s/it]                         "
     ]
    },
    {
     "name": "stdout",
     "output_type": "stream",
     "text": [
      "[-1.55810674  1.57079633  0.61907273 -0.84048817  1.57079633  1.57079633\n",
      " -1.47186966] \n",
      " [0.7423981  1.0003299  1.0003299  1.00032991 1.00032991 1.00032992\n",
      " 1.00032992] \n",
      " -2.738438247045117\n"
     ]
    },
    {
     "name": "stderr",
     "output_type": "stream",
     "text": [
      "\n"
     ]
    },
    {
     "data": {
      "text/plain": " message: Maximum number of function evaluations has been exceeded.\n success: False\n  status: 2\n     fun: -2.738438247045117\n       x: [ 7.424e-01  1.000e+00 ...  1.571e+00 -1.472e+00]\n    nfev: 20\n   maxcv: 0.0"
     },
     "execution_count": 4,
     "metadata": {},
     "output_type": "execute_result"
    }
   ],
   "source": [
    "svllp.p = 7\n",
    "res = svllp.run_optimizer(maxiter=20)\n",
    "res"
   ],
   "metadata": {
    "collapsed": false,
    "ExecuteTime": {
     "end_time": "2024-01-27T16:22:25.209814Z",
     "start_time": "2024-01-27T15:52:08.717299Z"
    }
   },
   "id": "735da9cbd217ec8a"
  },
  {
   "cell_type": "code",
   "execution_count": null,
   "outputs": [],
   "source": [
    "ub = svllp.unitary_b_approx(1.571)\n",
    "ub.shape"
   ],
   "metadata": {
    "collapsed": false,
    "ExecuteTime": {
     "start_time": "2024-01-27T15:27:22.382117Z"
    }
   },
   "id": "14b219893f569614"
  },
  {
   "cell_type": "code",
   "execution_count": null,
   "outputs": [],
   "source": [
    "ua = unitary_a(svllp.ha, 1.571, False)"
   ],
   "metadata": {
    "collapsed": false,
    "ExecuteTime": {
     "start_time": "2024-01-27T15:27:22.383430Z"
    }
   },
   "id": "e2cc8abe47816973"
  },
  {
   "cell_type": "code",
   "execution_count": null,
   "outputs": [],
   "source": [
    "psi = svllp.psi"
   ],
   "metadata": {
    "collapsed": false,
    "ExecuteTime": {
     "start_time": "2024-01-27T15:27:22.385010Z"
    }
   },
   "id": "92df76e93e79ed48"
  },
  {
   "cell_type": "code",
   "execution_count": null,
   "outputs": [],
   "source": [
    "sum(np.absolute(ub @ ua @ psi) **2)"
   ],
   "metadata": {
    "collapsed": false,
    "ExecuteTime": {
     "end_time": "2024-01-27T15:27:22.404417Z",
     "start_time": "2024-01-27T15:27:22.386278Z"
    }
   },
   "id": "497d0b39c924ec42"
  },
  {
   "cell_type": "code",
   "execution_count": 11,
   "outputs": [
    {
     "name": "stdout",
     "output_type": "stream",
     "text": [
      "1.0\n",
      "1.0\n",
      "1.0000090996730167\n",
      "1.0000090996730167\n",
      "1.0000090996730167\n",
      "1.0000197742379826\n",
      "1.0000197742379826\n",
      "1.0000197742379828\n",
      "1.0000297012547281\n",
      "1.0000297012547281\n",
      "1.0000297012547281\n",
      "1.0000368154083306\n",
      "1.0000368154083306\n",
      "1.0000368154083306\n",
      "1.0000413553221499\n",
      "1.0000413553221499\n",
      "1.00004135532215\n",
      "1.0000441739211503\n",
      "1.0000441739211503\n",
      "1.0000441739211505\n",
      "1.000045052311898\n"
     ]
    }
   ],
   "source": [
    "from new_basis_llp_qaoa.qaoa.parameters import Parameters\n",
    "\n",
    "svllp.evolve(parameters)"
   ],
   "metadata": {
    "collapsed": false,
    "ExecuteTime": {
     "end_time": "2024-01-27T16:27:00.440922Z",
     "start_time": "2024-01-27T16:26:11.211287Z"
    }
   },
   "id": "2882d6a38e28da09"
  },
  {
   "cell_type": "code",
   "execution_count": 10,
   "outputs": [
    {
     "data": {
      "text/plain": "Parameters(gamma_list=array([-1.55810674,  1.57079633,  0.61907273, -0.84048817,  1.57079633,\n        1.57079633, -1.47186966]), beta_list=array([0.7423981 , 1.0003299 , 1.0003299 , 1.00032991, 1.00032991,\n       1.00032992, 1.00032992]))"
     },
     "execution_count": 10,
     "metadata": {},
     "output_type": "execute_result"
    }
   ],
   "source": [
    "params = res.x\n",
    "p = int(len(params)/2)\n",
    "betas = params[:p]\n",
    "gammas = params[p:]\n",
    "parameters = Parameters(\n",
    "    gamma_list=gammas,\n",
    "    beta_list=betas\n",
    ")\n",
    "parameters"
   ],
   "metadata": {
    "collapsed": false,
    "ExecuteTime": {
     "end_time": "2024-01-27T16:26:03.789480Z",
     "start_time": "2024-01-27T16:26:03.784498Z"
    }
   },
   "id": "d248aca0d5514321"
  },
  {
   "cell_type": "code",
   "execution_count": 27,
   "outputs": [
    {
     "name": "stdout",
     "output_type": "stream",
     "text": [
      "[2692 2688 2180 2700 2696 2176 2694 2188 2184]\n",
      "['010222', '000222', '010202', '030222', '020222', '000202', '210222', '030202', '020202']\n"
     ]
    },
    {
     "data": {
      "text/plain": "([<matplotlib.lines.Line2D at 0x1478500a0>],\n [-2.782585267160477,\n  -2.6763936855233412,\n  -2.94670932193325,\n  -2.5963520187958276,\n  -2.7205075177055935,\n  -2.8405177402961144,\n  -2.6567507594571227,\n  -2.7604760735686007,\n  -2.8846315724783667])"
     },
     "execution_count": 27,
     "metadata": {},
     "output_type": "execute_result"
    },
    {
     "data": {
      "text/plain": "<Figure size 640x480 with 1 Axes>",
      "image/png": "[encoded data removed]"
     },
     "metadata": {},
     "output_type": "display_data"
    }
   ],
   "source": [
    "\n",
    "import numpy as np\n",
    "import matplotlib.pyplot as plt\n",
    "best_10 = np.argsort(svllp.probabilities.copy())[-1:-10:-1]\n",
    "print(best_10)\n",
    "best_10 = [svllp.get_str_from_index(b) for b in best_10]\n",
    "print(best_10)\n",
    "plt.plot(svllp.probabilities), [svllp.get_cost_from_str(b) for b in best_10]"
   ],
   "metadata": {
    "collapsed": false,
    "ExecuteTime": {
     "end_time": "2024-01-27T16:35:25.451622Z",
     "start_time": "2024-01-27T16:35:25.340978Z"
    }
   },
   "id": "45dac17acd344fe4"
  },
  {
   "cell_type": "code",
   "execution_count": null,
   "outputs": [],
   "source": [
    "def seperate_beta(beta, interval):\n",
    "    c, f = beta.__divmod__(interval)\n",
    "    c = int(c)\n",
    "    if f > interval/2:\n",
    "        c = c + 1\n",
    "        f = f - interval\n",
    "    if np.abs(f) < 1e-2:\n",
    "        f = 0\n",
    "    assert np.isclose(c * interval + f, beta, atol=2e-2), (c * interval + f, beta)\n",
    "    return c, f\n",
    "\n",
    "seperate_beta(3.141592653589793/2, 0.1)"
   ],
   "metadata": {
    "collapsed": false,
    "ExecuteTime": {
     "start_time": "2024-01-27T15:27:22.390584Z"
    }
   },
   "id": "3b5eb710fd6c0cb7"
  },
  {
   "cell_type": "code",
   "execution_count": null,
   "outputs": [],
   "source": [
    "# Define the function f(x, y)\n",
    "def f(x, y):\n",
    "    return np.sin(x) + np.cos(y)\n",
    "\n",
    "def energy(beta, gamma):\n",
    "    psi = svllp.unitary_b_approx(beta) @ unitary_a(svllp.ha,gamma,False) @ svllp.psi.copy()\n",
    "    bra_psi = psi.conj().transpose()\n",
    "    ket_psi = psi\n",
    "\n",
    "    return (bra_psi @ (svllp.ha @ ket_psi)).real\n",
    "    \n",
    "\n",
    "# Generate x and y values\n",
    "x = np.linspace(-np.pi/2, np.pi/2, 10)\n",
    "y = np.linspace(-np.pi/2, np.pi/2, 10)\n",
    "\n",
    "# Create a meshgrid from x and y values\n",
    "X, Y = np.meshgrid(x, y)\n",
    "\n",
    "# Calculate the function values for each point in the meshgrid\n",
    "Z = np.vectorize(energy)(X, Y)\n",
    "\n",
    "# Plot the heatmap\n",
    "plt.imshow(Z, extent=(min(x), max(x), min(y), max(y)), cmap='viridis')  # You can choose a different colormap\n",
    "plt.colorbar()\n",
    "\n",
    "# Set labels\n",
    "plt.xlabel('beta')\n",
    "plt.ylabel('gamma')\n",
    "\n",
    "# Show the plot\n",
    "plt.show()\n"
   ],
   "metadata": {
    "collapsed": false,
    "ExecuteTime": {
     "start_time": "2024-01-27T15:27:22.391428Z"
    }
   },
   "id": "c951b8b5cacb29bc"
  },
  {
   "cell_type": "code",
   "execution_count": null,
   "outputs": [],
   "source": [
    "from scipy.optimize import minimize\n",
    "\n",
    "# Objective function to minimize\n",
    "def objective_function(x):\n",
    "    return x[0]**2 + x[1]**2\n",
    "\n",
    "# Initial guess\n",
    "initial_guess = [1.0, -9.0]\n",
    "\n",
    "# Constraints\n",
    "\n",
    "# Using COBYLA method for optimization\n",
    "result = minimize(\n",
    "    objective_function, initial_guess, method='COBYLA', options={\n",
    "        'disp':True,\n",
    "        'catol': 0.1\n",
    "        \n",
    "    }\n",
    ")\n",
    "\n",
    "result\n"
   ],
   "metadata": {
    "collapsed": false,
    "ExecuteTime": {
     "start_time": "2024-01-27T15:27:22.392226Z"
    }
   },
   "id": "1e73020c377b4644"
  },
  {
   "cell_type": "code",
   "execution_count": 24,
   "outputs": [
    {
     "data": {
      "text/plain": "array([5, 4, 2, 0, 3, 1])"
     },
     "execution_count": 24,
     "metadata": {},
     "output_type": "execute_result"
    }
   ],
   "source": [
    "np.argsort([3,1,4,1,5,9])[-1:-10:-1]"
   ],
   "metadata": {
    "collapsed": false,
    "ExecuteTime": {
     "end_time": "2024-01-27T16:34:24.706491Z",
     "start_time": "2024-01-27T16:34:24.703569Z"
    }
   },
   "id": "25b466ce1459eb16"
  }
 ],
 "metadata": {
  "kernelspec": {
   "display_name": "Python 3",
   "language": "python",
   "name": "python3"
  },
  "language_info": {
   "codemirror_mode": {
    "name": "ipython",
    "version": 2
   },
   "file_extension": ".py",
   "mimetype": "text/x-python",
   "name": "python",
   "nbconvert_exporter": "python",
   "pygments_lexer": "ipython2",
   "version": "2.7.6"
  }
 },
 "nbformat": 4,
 "nbformat_minor": 5
}
