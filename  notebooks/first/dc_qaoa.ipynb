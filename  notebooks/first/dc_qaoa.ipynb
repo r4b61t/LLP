{
 "cells": [
  {
   "cell_type": "code",
   "execution_count": 2,
   "id": "initial_id",
   "metadata": {
    "collapsed": true,
    "ExecuteTime": {
     "end_time": "2024-01-23T11:03:46.869587Z",
     "start_time": "2024-01-23T11:03:46.638230Z"
    }
   },
   "outputs": [
    {
     "name": "stdout",
     "output_type": "stream",
     "text": [
      "600 4\n",
      "-- Performing DC-QAOA --\n"
     ]
    }
   ],
   "source": [
    "from tew_code.qtft_tools import DC_QAOA, logging\n",
    "\n",
    "import time\n",
    "from scipy import sparse\n",
    "\n",
    "logging.basicConfig(level=logging.INFO, format='%(asctime)s - %(levelname)s - %(message)s')\n",
    "\n",
    "# Q-Learning values. (Discounted Payoff action is in first column).\n",
    "Qs = sparse.load_npz('data/Qs.npz').toarray()\n",
    "\n",
    "# Association matrix\n",
    "As = sparse.load_npz('data/As.npz').toarray()\n",
    "\n",
    "# Provision constraints\n",
    "Ls = sparse.load_npz('data/Ls.npz').toarray()\n",
    "\n",
    "Qs_with_4_actions = Qs.copy()[:, :4]\n",
    "Ls_with_4_actions = Ls.copy()[:, :4]\n",
    "\n",
    "selected_number_of_loanees = 600\n",
    "\n",
    "Qs = Qs_with_4_actions[:selected_number_of_loanees]\n",
    "Ls = Ls_with_4_actions[:selected_number_of_loanees]\n",
    "As = As[:selected_number_of_loanees, :selected_number_of_loanees]\n",
    "\n",
    "# Number of assets\n",
    "N = len(Qs)\n",
    "\n",
    "# Number of actions\n",
    "M = len(Qs[0, :])\n",
    "print(N, M)\n",
    "\n",
    "# Number of candidate solutions from QAOA\n",
    "n_candidates = 100\n",
    "\n",
    "# Number of driving cycles in QAOA. The larger this value, the better and the slower the solutions \n",
    "p = 7\n",
    "\n",
    "# Max community size in the divide-and-conquer algorithm. \n",
    "max_community_size = 6\n",
    "\n",
    "# Weight (epsilon) in the objective function\n",
    "e = 0.2\n",
    "start_time = time.time()\n",
    "# Peform DC QAOA\n",
    "print('-- Performing DC-QAOA --')\n",
    "m = DC_QAOA(Qs, As, e, p, n_candidates, max_community_size)\n"
   ]
  },
  {
   "cell_type": "code",
   "execution_count": 3,
   "outputs": [],
   "source": [
    "m.set_communities()\n",
    "group = m.groups[0]"
   ],
   "metadata": {
    "collapsed": false,
    "ExecuteTime": {
     "end_time": "2024-01-23T11:03:48.552337Z",
     "start_time": "2024-01-23T11:03:48.340657Z"
    }
   },
   "id": "c25e1a6b0cdeab3b"
  },
  {
   "cell_type": "code",
   "execution_count": 4,
   "outputs": [],
   "source": [
    "Q = m.Qs[group.nodes]"
   ],
   "metadata": {
    "collapsed": false,
    "ExecuteTime": {
     "end_time": "2024-01-23T11:03:49.383611Z",
     "start_time": "2024-01-23T11:03:49.370049Z"
    }
   },
   "id": "b8e778996e6cd8a1"
  },
  {
   "cell_type": "code",
   "execution_count": 5,
   "outputs": [],
   "source": [
    "A = m.As[group.nodes][:, group.nodes]\n"
   ],
   "metadata": {
    "collapsed": false,
    "ExecuteTime": {
     "end_time": "2024-01-23T11:03:50.308711Z",
     "start_time": "2024-01-23T11:03:50.262396Z"
    }
   },
   "id": "a3e90f50f58ed487"
  },
  {
   "cell_type": "code",
   "execution_count": 19,
   "outputs": [],
   "source": [
    "from new_basis_llp_qaoa.statevector_sim.statevector_llp import StateVectorLLP\n",
    "\n",
    "state = \"ones\"\n",
    "p = 1\n",
    "svllp = StateVectorLLP(Q, A, 1 / 20, p, state)"
   ],
   "metadata": {
    "collapsed": false,
    "ExecuteTime": {
     "end_time": "2024-01-23T11:12:15.809992Z",
     "start_time": "2024-01-23T11:12:15.730202Z"
    }
   },
   "id": "eb420f0bf09d1f63"
  },
  {
   "cell_type": "code",
   "execution_count": 27,
   "outputs": [],
   "source": [
    "\n",
    "import numpy as np\n",
    "from new_basis_llp_qaoa.statevector_sim.statevector_llp import unitary_b_taylor\n",
    "\n",
    "t_terms = svllp.hb_taylor_terms\n",
    "ub = unitary_b_taylor(t_terms, np.pi).toarray()"
   ],
   "metadata": {
    "collapsed": false,
    "ExecuteTime": {
     "end_time": "2024-01-23T11:15:52.199775Z",
     "start_time": "2024-01-23T11:15:46.406745Z"
    }
   },
   "id": "59bd882548df03db"
  },
  {
   "cell_type": "code",
   "execution_count": 32,
   "outputs": [
    {
     "data": {
      "text/plain": "31.25439453125"
     },
     "execution_count": 32,
     "metadata": {},
     "output_type": "execute_result"
    }
   ],
   "source": [
    "4048 **2 * 2 / 1024 /1024"
   ],
   "metadata": {
    "collapsed": false,
    "ExecuteTime": {
     "end_time": "2024-01-23T11:16:40.692970Z",
     "start_time": "2024-01-23T11:16:40.518045Z"
    }
   },
   "id": "7615d7aee3a7c2fa"
  },
  {
   "cell_type": "code",
   "execution_count": 7,
   "outputs": [
    {
     "name": "stderr",
     "output_type": "stream",
     "text": [
      "2024-01-23 18:03:53,114 - INFO - Caching HA.\n",
      "Calculating profit term.: 100%|██████████| 6/6 [00:00<00:00, 194.50it/s]\n",
      "Calculating welfare term.: 100%|██████████| 6/6 [00:00<00:00, 153.19it/s]\n",
      "2024-01-23 18:03:53,213 - INFO - Caching HB.\n",
      "Calculating HB.: 100%|██████████| 11/11 [00:00<00:00, 836.37it/s]\n",
      "Calculating taylor series terms for HB.: 100%|██████████| 12/12 [00:02<00:00,  5.58it/s]\n",
      "2024-01-23 18:03:55,382 - INFO - Getting initial state.\n",
      "Optimizing:   4%|▎         | 37/1000 [01:55<50:16,  3.13s/it]  \n"
     ]
    }
   ],
   "source": [
    "res = svllp.run_optimizer(maxiter=1000)"
   ],
   "metadata": {
    "collapsed": false,
    "ExecuteTime": {
     "end_time": "2024-01-23T11:05:51.272016Z",
     "start_time": "2024-01-23T11:03:53.116281Z"
    }
   },
   "id": "2713417267f3cd1c"
  },
  {
   "cell_type": "code",
   "execution_count": 8,
   "outputs": [
    {
     "data": {
      "text/plain": " message: Optimization terminated successfully.\n success: True\n  status: 1\n     fun: -17476917859.372517\n       x: [ 3.142e+00 -2.156e-04]\n    nfev: 37\n   maxcv: 0.0"
     },
     "execution_count": 8,
     "metadata": {},
     "output_type": "execute_result"
    }
   ],
   "source": [
    "res"
   ],
   "metadata": {
    "collapsed": false,
    "ExecuteTime": {
     "end_time": "2024-01-23T11:09:26.588751Z",
     "start_time": "2024-01-23T11:09:26.583013Z"
    }
   },
   "id": "e613f73d42641136"
  },
  {
   "cell_type": "code",
   "execution_count": 20,
   "outputs": [
    {
     "name": "stderr",
     "output_type": "stream",
     "text": [
      "2024-01-23 18:12:20,588 - INFO - Evolving psi\n",
      "2024-01-23 18:12:20,589 - INFO - Caching HB.\n",
      "Calculating HB.: 100%|██████████| 11/11 [00:00<00:00, 494.78it/s]\n",
      "Calculating taylor series terms for HB.: 100%|██████████| 12/12 [00:03<00:00,  3.55it/s]\n",
      "2024-01-23 18:12:24,007 - INFO - Caching HA.\n",
      "Calculating profit term.: 100%|██████████| 6/6 [00:00<00:00, 101.55it/s]\n",
      "Calculating welfare term.: 100%|██████████| 6/6 [00:00<00:00, 82.54it/s]\n",
      "2024-01-23 18:12:24,158 - INFO - Getting initial state.\n"
     ]
    }
   ],
   "source": [
    "from new_basis_llp_qaoa.qaoa.parameters import Parameters\n",
    "\n",
    "#p = 1 -> 73 iterations with 1.97 seconds per iteration\n",
    "#p = 3 -> more than 1000 iterations with 4.23 seconds per iteration\n",
    "#p = 7 -> more than 1000 iterations with 14.78 seconds per iteration\n",
    "params = res.x\n",
    "betas = params[:p]\n",
    "gammas = params[p:]\n",
    "params = Parameters(\n",
    "    gamma_list=gammas,\n",
    "    beta_list=betas\n",
    ")\n",
    "logging.info(\"Evolving psi\")\n",
    "svllp.evolve(params)"
   ],
   "metadata": {
    "collapsed": false,
    "ExecuteTime": {
     "end_time": "2024-01-23T11:12:29.013353Z",
     "start_time": "2024-01-23T11:12:20.589598Z"
    }
   },
   "id": "4711183be8aa287f"
  },
  {
   "cell_type": "code",
   "execution_count": 22,
   "outputs": [
    {
     "data": {
      "text/plain": "array([457.69486744+1929.94757749j, 457.70709744+1929.94468803j,\n       457.71590167+1929.94261784j, ..., 457.74457837+1929.93587244j,\n       457.75338257+1929.93380212j, 457.77706995+1929.92824272j])"
     },
     "execution_count": 22,
     "metadata": {},
     "output_type": "execute_result"
    }
   ],
   "source": [
    "svllp.psi"
   ],
   "metadata": {
    "collapsed": false,
    "ExecuteTime": {
     "end_time": "2024-01-23T11:12:53.415289Z",
     "start_time": "2024-01-23T11:12:53.242936Z"
    }
   },
   "id": "5034b51047a33cc0"
  },
  {
   "cell_type": "markdown",
   "source": [
    " message: Maximum number of function evaluations has been exceeded.\n",
    " success: False\n",
    "  status: 2\n",
    "     fun: 1065.1681251579857\n",
    "       x: [ 1.005e+00  1.106e+00  1.038e+00  9.133e-01]\n",
    "    nfev: 1000\n",
    "   maxcv: 0.0\n",
    "message: Maximum number of function evaluations has been exceeded.\n",
    " success: False\n",
    "  status: 2\n",
    "     fun: -5.122875714495229e+19\n",
    "       x:[0.466712 0.461325 -0.459643 0.443783 0.467750 0.468877 0.447460 0.668717 0.000326 2.464951]\n",
    "    nfev: 1000\n",
    "   maxcv: 0.0"
   ],
   "metadata": {
    "collapsed": false
   },
   "id": "f7e8ddd9eb4ced67"
  }
 ],
 "metadata": {
  "kernelspec": {
   "display_name": "Python 3",
   "language": "python",
   "name": "python3"
  },
  "language_info": {
   "codemirror_mode": {
    "name": "ipython",
    "version": 2
   },
   "file_extension": ".py",
   "mimetype": "text/x-python",
   "name": "python",
   "nbconvert_exporter": "python",
   "pygments_lexer": "ipython2",
   "version": "2.7.6"
  }
 },
 "nbformat": 4,
 "nbformat_minor": 5
}
