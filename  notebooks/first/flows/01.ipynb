{
 "cells": [
  {
   "cell_type": "code",
   "execution_count": 16,
   "id": "initial_id",
   "metadata": {
    "collapsed": true,
    "ExecuteTime": {
     "end_time": "2024-01-02T07:35:56.310503Z",
     "start_time": "2024-01-02T07:35:56.271850Z"
    }
   },
   "outputs": [],
   "source": [
    "from new_basis_llp_qaoa.statevector_sim.statevector_llp import StateVectorLLP, unitary_b_taylor, unitary_b, unitary_a\n",
    "from new_basis_llp_qaoa.qaoa.parameters import Parameters\n",
    "from time import time"
   ]
  },
  {
   "cell_type": "code",
   "execution_count": 17,
   "outputs": [
    {
     "data": {
      "text/plain": "(array([[0.        , 0.05536604, 0.02753468],\n        [0.05536604, 0.        , 0.11892465],\n        [0.02753468, 0.11892465, 0.        ]]),\n array([[0.02763357, 0.00921119, 0.01842238],\n        [0.03873127, 0.0580969 , 0.01936563],\n        [0.03254652, 0.01627326, 0.04881978]]))"
     },
     "execution_count": 17,
     "metadata": {},
     "output_type": "execute_result"
    }
   ],
   "source": [
    "import numpy as np\n",
    "ASList = np.load(\"../../../resource/sample_matrices/AS-Copy1.npy\")\n",
    "QSList = np.load(\"../../../resource/sample_matrices/QS-Copy1.npy\")\n",
    "AS = ASList[0]\n",
    "QS = QSList[0]\n",
    "\n",
    "\n",
    "def generate_random_dataset(M, N, strength=0.2):\n",
    "    As = np.zeros((N,N))\n",
    "    for i in range(N):\n",
    "        for j in range(i):\n",
    "            x = np.random.random()\n",
    "            while x > strength:\n",
    "                x = np.random.random()\n",
    "            As[i][j] = x\n",
    "            As[j][i] = x\n",
    "\n",
    "    Qs = np.zeros((N,M))\n",
    "    expected_returns = np.linspace(1/M, 1, M)[:: -1]*(1/M)\n",
    "    Vs = As.sum(axis=1)\n",
    "    for i in range(N):\n",
    "        np.random.shuffle(expected_returns)\n",
    "        Qs[i, :] = Vs[i] * expected_returns\n",
    "    return As, Qs\n",
    "np.random.seed(40)\n",
    "As, Qs = generate_random_dataset(3,3)\n",
    "As, Qs"
   ],
   "metadata": {
    "collapsed": false,
    "ExecuteTime": {
     "end_time": "2024-01-02T07:35:56.339518Z",
     "start_time": "2024-01-02T07:35:56.280045Z"
    }
   },
   "id": "c04febee24a1280a"
  },
  {
   "cell_type": "code",
   "execution_count": 18,
   "outputs": [],
   "source": [
    "state = \"ones\"\n",
    "p = 1\n",
    "svllp = StateVectorLLP(Qs, As, 1/20,p, state)\n",
    "\n"
   ],
   "metadata": {
    "collapsed": false,
    "ExecuteTime": {
     "end_time": "2024-01-02T07:35:56.339611Z",
     "start_time": "2024-01-02T07:35:56.290151Z"
    }
   },
   "id": "69a614c662616f14"
  },
  {
   "cell_type": "code",
   "execution_count": 19,
   "outputs": [],
   "source": [
    "n = svllp.qubits_number\n",
    "svllp.current_state = np.ones(2**n)/np.sqrt(2**n)"
   ],
   "metadata": {
    "collapsed": false,
    "ExecuteTime": {
     "end_time": "2024-01-02T07:35:56.339643Z",
     "start_time": "2024-01-02T07:35:56.292075Z"
    }
   },
   "id": "12083e13bc516ef3"
  },
  {
   "cell_type": "code",
   "execution_count": 20,
   "outputs": [
    {
     "name": "stdout",
     "output_type": "stream",
     "text": [
      "caching_ha\n",
      "Constructing profit term\n"
     ]
    },
    {
     "name": "stderr",
     "output_type": "stream",
     "text": [
      "100%|██████████| 3/3 [00:00<00:00, 301.60it/s]\n"
     ]
    },
    {
     "name": "stdout",
     "output_type": "stream",
     "text": [
      "Constructing welfare term\n"
     ]
    },
    {
     "name": "stderr",
     "output_type": "stream",
     "text": [
      "100%|██████████| 3/3 [00:00<00:00, 619.97it/s]\n"
     ]
    },
    {
     "name": "stdout",
     "output_type": "stream",
     "text": [
      "caching_hb\n",
      "constructing mixer\n"
     ]
    },
    {
     "name": "stderr",
     "output_type": "stream",
     "text": [
      "100%|██████████| 5/5 [00:00<00:00, 1942.71it/s]"
     ]
    },
    {
     "name": "stdout",
     "output_type": "stream",
     "text": [
      "constructing UA gate\n",
      "took 0.0003871917724609375s\n",
      "constructing UB gate\n",
      "took 0.01350712776184082s\n",
      "constructing UA gate\n",
      "took 0.0002129077911376953s\n",
      "constructing UB gate\n",
      "took 0.012328863143920898s\n",
      "constructing UA gate\n",
      "took 0.00021886825561523438s\n",
      "constructing UB gate\n",
      "took 0.013170003890991211s\n",
      "constructing UA gate\n",
      "took 0.00019884109497070312s\n",
      "constructing UB gate\n",
      "took 0.012301921844482422s\n",
      "constructing UA gate\n",
      "took 0.0002219676971435547s\n",
      "constructing UB gate\n",
      "took 0.01232290267944336s\n",
      "constructing UA gate\n",
      "took 0.00020694732666015625s\n",
      "constructing UB gate\n",
      "took 0.012442827224731445s\n",
      "constructing UA gate\n",
      "took 0.00019311904907226562s\n",
      "constructing UB gate\n",
      "took 0.012586116790771484s\n",
      "constructing UA gate\n",
      "took 0.0001819133758544922s\n",
      "constructing UB gate\n",
      "took 0.012205123901367188s\n",
      "constructing UA gate\n",
      "took 0.00018405914306640625s\n",
      "constructing UB gate\n",
      "took 0.011748790740966797s\n",
      "constructing UA gate\n",
      "took 0.00017905235290527344s\n",
      "constructing UB gate\n",
      "took 0.009922981262207031s\n",
      "constructing UA gate\n",
      "took 0.0002486705780029297s\n",
      "constructing UB gate\n",
      "took 0.010600805282592773s\n",
      "constructing UA gate\n",
      "took 0.0001888275146484375s\n",
      "constructing UB gate\n",
      "took 0.009796857833862305s\n",
      "constructing UA gate\n",
      "took 0.00017404556274414062s\n",
      "constructing UB gate\n",
      "took 0.011274099349975586s\n",
      "constructing UA gate\n",
      "took 0.0001990795135498047s\n",
      "constructing UB gate\n",
      "took 0.011259794235229492s\n",
      "constructing UA gate\n",
      "took 0.00027489662170410156s\n",
      "constructing UB gate\n"
     ]
    },
    {
     "name": "stderr",
     "output_type": "stream",
     "text": [
      "\n",
      "/Users/chayaponthunsetkul/Library/Caches/pypoetry/virtualenvs/newbasisimbq-JkixFnlr-py3.10/lib/python3.10/site-packages/scipy/optimize/_minimize.py:580: RuntimeWarning: Method BFGS cannot handle bounds.\n",
      "  warn('Method %s cannot handle bounds.' % method,\n",
      "/Users/chayaponthunsetkul/Library/Caches/pypoetry/virtualenvs/newbasisimbq-JkixFnlr-py3.10/lib/python3.10/site-packages/scipy/sparse/linalg/_dsolve/linsolve.py:229: SparseEfficiencyWarning: spsolve requires A be CSC or CSR matrix format\n",
      "  warn('spsolve requires A be CSC or CSR matrix format',\n",
      "/Users/chayaponthunsetkul/Library/Caches/pypoetry/virtualenvs/newbasisimbq-JkixFnlr-py3.10/lib/python3.10/site-packages/scipy/sparse/linalg/_dsolve/linsolve.py:302: SparseEfficiencyWarning: spsolve is more efficient when sparse b is in the CSC matrix format\n",
      "  warn('spsolve is more efficient when sparse b '\n",
      "/Users/chayaponthunsetkul/Library/Caches/pypoetry/virtualenvs/newbasisimbq-JkixFnlr-py3.10/lib/python3.10/site-packages/scipy/optimize/_numdiff.py:598: ComplexWarning: Casting complex values to real discards the imaginary part\n",
      "  J_transposed[i] = df / dx\n",
      "/Users/chayaponthunsetkul/Library/Caches/pypoetry/virtualenvs/newbasisimbq-JkixFnlr-py3.10/lib/python3.10/site-packages/scipy/optimize/_linesearch.py:155: ComplexWarning: Casting complex values to real discards the imaginary part\n",
      "  stp, phi1, derphi1, task = minpack2.dcsrch(alpha1, phi1, derphi1,\n"
     ]
    },
    {
     "name": "stdout",
     "output_type": "stream",
     "text": [
      "took 0.012989282608032227s\n",
      "constructing UA gate\n",
      "took 0.00019407272338867188s\n",
      "constructing UB gate\n",
      "took 0.013220071792602539s\n",
      "constructing UA gate\n",
      "took 0.00019621849060058594s\n",
      "constructing UB gate\n",
      "took 0.013174057006835938s\n",
      "constructing UA gate\n",
      "took 0.00021886825561523438s\n",
      "constructing UB gate\n",
      "took 0.011765003204345703s\n",
      "constructing UA gate\n",
      "took 0.0002067089080810547s\n",
      "constructing UB gate\n",
      "took 0.012768030166625977s\n",
      "constructing UA gate\n",
      "took 0.00018310546875s\n",
      "constructing UB gate\n",
      "took 0.012501001358032227s\n",
      "constructing UA gate\n",
      "took 0.0002970695495605469s\n",
      "constructing UB gate\n",
      "took 0.013563156127929688s\n",
      "constructing UA gate\n",
      "took 0.00020194053649902344s\n",
      "constructing UB gate\n",
      "took 0.011839866638183594s\n",
      "constructing UA gate\n",
      "took 0.0002429485321044922s\n",
      "constructing UB gate\n",
      "took 0.011677026748657227s\n",
      "constructing UA gate\n",
      "took 0.00022125244140625s\n",
      "constructing UB gate\n",
      "took 0.011615991592407227s\n",
      "constructing UA gate\n",
      "took 0.00019311904907226562s\n",
      "constructing UB gate\n",
      "took 0.01135110855102539s\n",
      "constructing UA gate\n",
      "took 0.00017690658569335938s\n",
      "constructing UB gate\n",
      "took 0.010987997055053711s\n",
      "constructing UA gate\n",
      "took 0.0002532005310058594s\n",
      "constructing UB gate\n",
      "took 0.010927200317382812s\n",
      "constructing UA gate\n",
      "took 0.00018715858459472656s\n",
      "constructing UB gate\n",
      "took 0.013695001602172852s\n",
      "constructing UA gate\n",
      "took 0.0002028942108154297s\n",
      "constructing UB gate\n",
      "took 0.014406204223632812s\n",
      "constructing UA gate\n",
      "took 0.0002009868621826172s\n",
      "constructing UB gate\n",
      "took 0.013783931732177734s\n",
      "constructing UA gate\n",
      "took 0.00030303001403808594s\n",
      "constructing UB gate\n",
      "took 0.015542030334472656s\n",
      "constructing UA gate\n",
      "took 0.00041103363037109375s\n",
      "constructing UB gate\n",
      "took 0.014771223068237305s\n",
      "constructing UA gate\n",
      "took 0.0002951622009277344s\n",
      "constructing UB gate\n",
      "took 0.01611804962158203s\n",
      "0.45735883712768555\n"
     ]
    }
   ],
   "source": [
    "start = time()\n",
    "res = svllp.run_optimizer(maxiter=100)\n",
    "print(time() - start)"
   ],
   "metadata": {
    "collapsed": false,
    "ExecuteTime": {
     "end_time": "2024-01-02T07:35:56.759051Z",
     "start_time": "2024-01-02T07:35:56.299383Z"
    }
   },
   "id": "bff08fb6183678"
  },
  {
   "cell_type": "code",
   "execution_count": 21,
   "outputs": [
    {
     "data": {
      "text/plain": "  message: Optimization terminated successfully.\n  success: True\n   status: 0\n      fun: -0.08971190960141397\n        x: [ 4.523e-01 -1.416e-02]\n      nit: 9\n      jac: [ 1.770e-08 -9.453e-07]\n hess_inv: [[ 1.500e-03  9.331e-06]\n            [ 9.331e-06  1.280e-06]]\n     nfev: 33\n     njev: 11"
     },
     "execution_count": 21,
     "metadata": {},
     "output_type": "execute_result"
    }
   ],
   "source": [
    "\n",
    "res"
   ],
   "metadata": {
    "collapsed": false,
    "ExecuteTime": {
     "end_time": "2024-01-02T07:35:56.787755Z",
     "start_time": "2024-01-02T07:35:56.758989Z"
    }
   },
   "id": "dfe4cbee315fc68e"
  },
  {
   "cell_type": "code",
   "execution_count": 22,
   "outputs": [
    {
     "name": "stdout",
     "output_type": "stream",
     "text": [
      "caching_ha\n",
      "Constructing profit term\n"
     ]
    },
    {
     "name": "stderr",
     "output_type": "stream",
     "text": [
      "100%|██████████| 3/3 [00:00<00:00, 404.26it/s]\n"
     ]
    },
    {
     "name": "stdout",
     "output_type": "stream",
     "text": [
      "Constructing welfare term\n"
     ]
    },
    {
     "name": "stderr",
     "output_type": "stream",
     "text": [
      "100%|██████████| 3/3 [00:00<00:00, 610.91it/s]\n"
     ]
    },
    {
     "name": "stdout",
     "output_type": "stream",
     "text": [
      "constructing UA gate\n",
      "took 0.016969919204711914s\n",
      "caching_hb\n",
      "constructing mixer\n"
     ]
    },
    {
     "name": "stderr",
     "output_type": "stream",
     "text": [
      "100%|██████████| 5/5 [00:00<00:00, 1433.46it/s]"
     ]
    },
    {
     "name": "stdout",
     "output_type": "stream",
     "text": [
      "constructing UB gate\n",
      "took 0.02241206169128418s\n"
     ]
    },
    {
     "name": "stderr",
     "output_type": "stream",
     "text": [
      "\n"
     ]
    }
   ],
   "source": [
    "svllp = StateVectorLLP(Qs, As, 1/20, p, state)\n",
    "params = res.x\n",
    "betas = params[:p]\n",
    "gammas = params[p:]\n",
    "params = Parameters(\n",
    "    gamma_list=gammas,\n",
    "    beta_list=betas\n",
    ")\n",
    "svllp.evolve(params)"
   ],
   "metadata": {
    "collapsed": false,
    "ExecuteTime": {
     "end_time": "2024-01-02T07:35:56.868632Z",
     "start_time": "2024-01-02T07:35:56.767837Z"
    }
   },
   "id": "2b354b3c4bf66e52"
  },
  {
   "cell_type": "code",
   "execution_count": 23,
   "outputs": [
    {
     "data": {
      "text/plain": "((-0.08971190960141397+1.4073187720834183e-18j), -0.08971190960141395)"
     },
     "execution_count": 23,
     "metadata": {},
     "output_type": "execute_result"
    }
   ],
   "source": [
    "svllp.get_energy(), svllp.get_energy2()"
   ],
   "metadata": {
    "collapsed": false,
    "ExecuteTime": {
     "end_time": "2024-01-02T07:35:56.869582Z",
     "start_time": "2024-01-02T07:35:56.810860Z"
    }
   },
   "id": "5a51ca5cc1d60fe6"
  },
  {
   "cell_type": "code",
   "execution_count": 24,
   "outputs": [],
   "source": [
    "# svllp.ha.diagonal()"
   ],
   "metadata": {
    "collapsed": false,
    "ExecuteTime": {
     "end_time": "2024-01-02T07:35:56.870019Z",
     "start_time": "2024-01-02T07:35:56.814457Z"
    }
   },
   "id": "64a7c7f675d4be80"
  },
  {
   "cell_type": "code",
   "execution_count": 25,
   "outputs": [
    {
     "data": {
      "text/plain": "0.9999999999999999"
     },
     "execution_count": 25,
     "metadata": {},
     "output_type": "execute_result"
    }
   ],
   "source": [
    "prob = svllp.probabilities\n",
    "sum(prob)"
   ],
   "metadata": {
    "collapsed": false,
    "ExecuteTime": {
     "end_time": "2024-01-02T07:35:56.878302Z",
     "start_time": "2024-01-02T07:35:56.818709Z"
    }
   },
   "id": "14465eb97434848"
  },
  {
   "cell_type": "code",
   "execution_count": 26,
   "outputs": [
    {
     "data": {
      "text/plain": "[36, 38, 37]"
     },
     "execution_count": 26,
     "metadata": {},
     "output_type": "execute_result"
    }
   ],
   "source": [
    "top_3 = sorted([(j,i) for i,j in enumerate(svllp.ha.diagonal())])[:3]\n",
    "top_3 = [j for _,j in top_3]\n",
    "top_1 = top_3[0]\n",
    "top_3"
   ],
   "metadata": {
    "collapsed": false,
    "ExecuteTime": {
     "end_time": "2024-01-02T07:35:56.879154Z",
     "start_time": "2024-01-02T07:35:56.824305Z"
    }
   },
   "id": "eff53b83232b3363"
  },
  {
   "cell_type": "code",
   "execution_count": 27,
   "outputs": [
    {
     "data": {
      "text/plain": "Text(0.5, 0, 'state')"
     },
     "execution_count": 27,
     "metadata": {},
     "output_type": "execute_result"
    },
    {
     "data": {
      "text/plain": "<Figure size 640x480 with 1 Axes>",
      "image/png": "[encoded data removed]"
     },
     "metadata": {},
     "output_type": "display_data"
    }
   ],
   "source": [
    "from matplotlib import pyplot as plt\n",
    "plt.bar(x=range(2**svllp.qubits_number),height=prob, color='b', alpha=0.8)\n",
    "plt.bar(x=top_3, height=prob[top_3], color='y', alpha=0.8)\n",
    "plt.bar(x=top_1, height=prob[top_1], color='r', alpha=0.8)\n",
    "for y, vals in zip(prob, enumerate(svllp.ha.diagonal())):\n",
    "    x, energy = vals\n",
    "    plt.text(x= x, y = y+0.001, s= f\"{energy}\"[:7], horizontalalignment= 'center')\n",
    "plt.ylabel(\"probability\")\n",
    "plt.xlabel(\"state\")\n"
   ],
   "metadata": {
    "collapsed": false,
    "ExecuteTime": {
     "end_time": "2024-01-02T07:35:57.024816Z",
     "start_time": "2024-01-02T07:35:56.834966Z"
    }
   },
   "id": "ac2a3e90cd8c6ed7"
  },
  {
   "cell_type": "code",
   "execution_count": 27,
   "outputs": [],
   "source": [],
   "metadata": {
    "collapsed": false,
    "ExecuteTime": {
     "end_time": "2024-01-02T07:35:57.024949Z",
     "start_time": "2024-01-02T07:35:57.020187Z"
    }
   },
   "id": "6991335f1f639e8d"
  },
  {
   "cell_type": "code",
   "execution_count": 28,
   "outputs": [],
   "source": [
    "from new_basis_llp_qaoa.statevector_sim.statevector_llp import unitary_a\n"
   ],
   "metadata": {
    "collapsed": false,
    "ExecuteTime": {
     "end_time": "2024-01-02T07:35:57.033179Z",
     "start_time": "2024-01-02T07:35:57.028033Z"
    }
   },
   "id": "d934978dbea942ba"
  },
  {
   "cell_type": "code",
   "execution_count": 29,
   "outputs": [
    {
     "name": "stdout",
     "output_type": "stream",
     "text": [
      "caching_ha\n",
      "Constructing profit term\n"
     ]
    },
    {
     "name": "stderr",
     "output_type": "stream",
     "text": [
      "100%|██████████| 1/1 [00:00<00:00, 119.60it/s]\n"
     ]
    },
    {
     "name": "stdout",
     "output_type": "stream",
     "text": [
      "Constructing welfare term\n"
     ]
    },
    {
     "name": "stderr",
     "output_type": "stream",
     "text": [
      "100%|██████████| 1/1 [00:00<00:00, 4364.52it/s]\n"
     ]
    },
    {
     "name": "stdout",
     "output_type": "stream",
     "text": [
      "constructing UA gate\n",
      "0.0004658699035644531\n",
      "caching_ha\n",
      "Constructing profit term\n"
     ]
    },
    {
     "name": "stderr",
     "output_type": "stream",
     "text": [
      "100%|██████████| 2/2 [00:00<00:00, 154.18it/s]\n"
     ]
    },
    {
     "name": "stdout",
     "output_type": "stream",
     "text": [
      "Constructing welfare term\n"
     ]
    },
    {
     "name": "stderr",
     "output_type": "stream",
     "text": [
      "100%|██████████| 2/2 [00:00<00:00, 872.99it/s]\n"
     ]
    },
    {
     "name": "stdout",
     "output_type": "stream",
     "text": [
      "constructing UA gate\n",
      "0.00023412704467773438\n",
      "caching_ha\n",
      "Constructing profit term\n"
     ]
    },
    {
     "name": "stderr",
     "output_type": "stream",
     "text": [
      "100%|██████████| 3/3 [00:00<00:00, 125.69it/s]\n"
     ]
    },
    {
     "name": "stdout",
     "output_type": "stream",
     "text": [
      "Constructing welfare term\n"
     ]
    },
    {
     "name": "stderr",
     "output_type": "stream",
     "text": [
      "100%|██████████| 3/3 [00:00<00:00, 279.38it/s]\n"
     ]
    },
    {
     "name": "stdout",
     "output_type": "stream",
     "text": [
      "constructing UA gate\n",
      "0.002619028091430664\n",
      "caching_ha\n",
      "Constructing profit term\n"
     ]
    },
    {
     "name": "stderr",
     "output_type": "stream",
     "text": [
      "100%|██████████| 4/4 [00:00<00:00, 88.52it/s]\n"
     ]
    },
    {
     "name": "stdout",
     "output_type": "stream",
     "text": [
      "Constructing welfare term\n"
     ]
    },
    {
     "name": "stderr",
     "output_type": "stream",
     "text": [
      "100%|██████████| 4/4 [00:00<00:00, 278.09it/s]\n"
     ]
    },
    {
     "name": "stdout",
     "output_type": "stream",
     "text": [
      "constructing UA gate\n",
      "0.0008912086486816406\n",
      "caching_ha\n",
      "Constructing profit term\n"
     ]
    },
    {
     "name": "stderr",
     "output_type": "stream",
     "text": [
      "100%|██████████| 5/5 [00:00<00:00, 145.55it/s]\n"
     ]
    },
    {
     "name": "stdout",
     "output_type": "stream",
     "text": [
      "Constructing welfare term\n"
     ]
    },
    {
     "name": "stderr",
     "output_type": "stream",
     "text": [
      "100%|██████████| 5/5 [00:00<00:00, 132.59it/s]"
     ]
    },
    {
     "name": "stdout",
     "output_type": "stream",
     "text": [
      "constructing UA gate\n",
      "0.0029599666595458984\n"
     ]
    },
    {
     "name": "stderr",
     "output_type": "stream",
     "text": [
      "\n"
     ]
    }
   ],
   "source": [
    "times = []\n",
    "for n in range(1,6):\n",
    "    As, Qs = generate_random_dataset(5,n)\n",
    "    svllp = StateVectorLLP(Qs, As, 1/20, p, state)\n",
    "    ha =svllp.ha\n",
    "    start = time()\n",
    "    ua = unitary_a(ha, 7)\n",
    "    timed = time()-start\n",
    "    print(timed)\n",
    "    times.append(timed)"
   ],
   "metadata": {
    "collapsed": false,
    "ExecuteTime": {
     "end_time": "2024-01-02T07:35:57.260858Z",
     "start_time": "2024-01-02T07:35:57.034957Z"
    }
   },
   "id": "8697de89b16fe23f"
  },
  {
   "cell_type": "code",
   "execution_count": 30,
   "outputs": [
    {
     "data": {
      "text/plain": "[0.0004658699035644531,\n 0.00023412704467773438,\n 0.002619028091430664,\n 0.0008912086486816406,\n 0.0029599666595458984]"
     },
     "execution_count": 30,
     "metadata": {},
     "output_type": "execute_result"
    },
    {
     "data": {
      "text/plain": "<Figure size 640x480 with 1 Axes>",
      "image/png": "[encoded data removed]"
     },
     "metadata": {},
     "output_type": "display_data"
    }
   ],
   "source": [
    "plt.plot(times,'x')\n",
    "times"
   ],
   "metadata": {
    "collapsed": false,
    "ExecuteTime": {
     "end_time": "2024-01-02T07:35:57.357092Z",
     "start_time": "2024-01-02T07:35:57.265734Z"
    }
   },
   "id": "4a29f2fa20394bee"
  },
  {
   "cell_type": "code",
   "execution_count": 30,
   "outputs": [],
   "source": [],
   "metadata": {
    "collapsed": false,
    "ExecuteTime": {
     "end_time": "2024-01-02T07:35:57.358636Z",
     "start_time": "2024-01-02T07:35:57.355944Z"
    }
   },
   "id": "9b164cd305329555"
  }
 ],
 "metadata": {
  "kernelspec": {
   "display_name": "Python 3",
   "language": "python",
   "name": "python3"
  },
  "language_info": {
   "codemirror_mode": {
    "name": "ipython",
    "version": 2
   },
   "file_extension": ".py",
   "mimetype": "text/x-python",
   "name": "python",
   "nbconvert_exporter": "python",
   "pygments_lexer": "ipython2",
   "version": "2.7.6"
  }
 },
 "nbformat": 4,
 "nbformat_minor": 5
}
