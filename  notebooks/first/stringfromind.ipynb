{
 "cells": [
  {
   "cell_type": "code",
   "execution_count": 13,
   "id": "initial_id",
   "metadata": {
    "collapsed": true,
    "ExecuteTime": {
     "end_time": "2024-01-02T07:41:39.798172Z",
     "start_time": "2024-01-02T07:41:39.792040Z"
    }
   },
   "outputs": [],
   "source": [
    "loanee = 5\n",
    "action = 3\n",
    "ind = 42"
   ]
  },
  {
   "cell_type": "code",
   "execution_count": 14,
   "outputs": [],
   "source": [
    "binary = bin(ind)[2:]"
   ],
   "metadata": {
    "collapsed": false,
    "ExecuteTime": {
     "end_time": "2024-01-02T07:41:39.976539Z",
     "start_time": "2024-01-02T07:41:39.970646Z"
    }
   },
   "id": "a0feb3f4bba2bc48"
  },
  {
   "cell_type": "code",
   "execution_count": 15,
   "outputs": [],
   "source": [
    "import numpy as np\n",
    "def qubits_number_for_action(action):\n",
    "    return np.ceil(np.log2(action))\n",
    "\n",
    "\n",
    "def get_qubits_number(loanee, action):\n",
    "    return int(qubits_number_for_action(action) * loanee)\n"
   ],
   "metadata": {
    "collapsed": false,
    "ExecuteTime": {
     "end_time": "2024-01-02T07:41:40.535188Z",
     "start_time": "2024-01-02T07:41:40.527537Z"
    }
   },
   "id": "dd1e03fe0fd3bdc"
  },
  {
   "cell_type": "code",
   "execution_count": 27,
   "outputs": [],
   "source": [
    "q_number = get_qubits_number(loanee, action)\n",
    "action_bit_len = int(qubits_number_for_action(action))"
   ],
   "metadata": {
    "collapsed": false,
    "ExecuteTime": {
     "end_time": "2024-01-02T07:44:50.883569Z",
     "start_time": "2024-01-02T07:44:50.877807Z"
    }
   },
   "id": "ed2436c740b6c18d"
  },
  {
   "cell_type": "code",
   "execution_count": 28,
   "outputs": [
    {
     "data": {
      "text/plain": "'0000101010'"
     },
     "execution_count": 28,
     "metadata": {},
     "output_type": "execute_result"
    }
   ],
   "source": [
    "bitstring = '0' * (q_number - len(binary)) + str(binary)\n",
    "bitstring"
   ],
   "metadata": {
    "collapsed": false,
    "ExecuteTime": {
     "end_time": "2024-01-02T07:44:51.362728Z",
     "start_time": "2024-01-02T07:44:51.356162Z"
    }
   },
   "id": "ced4230bc52f796f"
  },
  {
   "cell_type": "code",
   "execution_count": 29,
   "outputs": [],
   "source": [
    "def group_by_size(input_string, size):\n",
    "    return [input_string[i:i+size] for i in range(0, len(input_string), size)]\n"
   ],
   "metadata": {
    "collapsed": false,
    "ExecuteTime": {
     "end_time": "2024-01-02T07:44:51.584028Z",
     "start_time": "2024-01-02T07:44:51.578665Z"
    }
   },
   "id": "24ede3fd1dbcc0bf"
  },
  {
   "cell_type": "code",
   "execution_count": 33,
   "outputs": [],
   "source": [
    "actions_for_each_loanee = group_by_size(bitstring, action_bit_len)"
   ],
   "metadata": {
    "collapsed": false,
    "ExecuteTime": {
     "end_time": "2024-01-02T07:46:53.566064Z",
     "start_time": "2024-01-02T07:46:53.559667Z"
    }
   },
   "id": "e4058ca7d4504375"
  },
  {
   "cell_type": "code",
   "execution_count": 35,
   "outputs": [],
   "source": [
    "actions_for_each_loanee = [int(action_bin,2) for action_bin in actions_for_each_loanee]"
   ],
   "metadata": {
    "collapsed": false,
    "ExecuteTime": {
     "end_time": "2024-01-02T07:47:39.345774Z",
     "start_time": "2024-01-02T07:47:39.338492Z"
    }
   },
   "id": "915ba3e76116db7b"
  },
  {
   "cell_type": "code",
   "execution_count": 41,
   "outputs": [],
   "source": [
    "str_from_ind = ''.join(map(str, (actions_for_each_loanee[::-1])))"
   ],
   "metadata": {
    "collapsed": false,
    "ExecuteTime": {
     "end_time": "2024-01-02T07:48:49.383962Z",
     "start_time": "2024-01-02T07:48:49.376280Z"
    }
   },
   "id": "d92c20f7b85e67e7"
  },
  {
   "cell_type": "code",
   "execution_count": 42,
   "outputs": [
    {
     "data": {
      "text/plain": "'22200'"
     },
     "execution_count": 42,
     "metadata": {},
     "output_type": "execute_result"
    }
   ],
   "source": [
    "str_from_ind"
   ],
   "metadata": {
    "collapsed": false,
    "ExecuteTime": {
     "end_time": "2024-01-02T07:48:52.652588Z",
     "start_time": "2024-01-02T07:48:52.633539Z"
    }
   },
   "id": "be7193ce607e2a2b"
  },
  {
   "cell_type": "code",
   "execution_count": null,
   "outputs": [],
   "source": [],
   "metadata": {
    "collapsed": false
   },
   "id": "72476012d5255722"
  }
 ],
 "metadata": {
  "kernelspec": {
   "display_name": "Python 3",
   "language": "python",
   "name": "python3"
  },
  "language_info": {
   "codemirror_mode": {
    "name": "ipython",
    "version": 2
   },
   "file_extension": ".py",
   "mimetype": "text/x-python",
   "name": "python",
   "nbconvert_exporter": "python",
   "pygments_lexer": "ipython2",
   "version": "2.7.6"
  }
 },
 "nbformat": 4,
 "nbformat_minor": 5
}
